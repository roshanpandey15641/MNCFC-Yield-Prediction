{
 "cells": [
  {
   "cell_type": "code",
   "execution_count": 1,
   "metadata": {},
   "outputs": [],
   "source": [
    "import numpy as np\n",
    "import pandas as pd\n",
    "import matplotlib.pyplot as plt\n",
    "import seaborn as sns"
   ]
  },
  {
   "cell_type": "code",
   "execution_count": 2,
   "metadata": {},
   "outputs": [],
   "source": [
    "%matplotlib inline\n",
    "plt.rcParams['font.size']=14\n",
    "plt.rcParams['axes.titlepad']= 8\n",
    "plt.rcParams['axes.titlesize']= 'medium'\n",
    "plt.rcParams['axes.grid']=True\n",
    "plt.rcParams['figure.figsize'] = (5,5)\n",
    "plt.rcParams['axes.facecolor'] = 'white'"
   ]
  },
  {
   "cell_type": "code",
   "execution_count": 3,
   "metadata": {},
   "outputs": [],
   "source": [
    "data_total = pd.read_csv('Barabanki_CCE_Extract_Two_Stage_250m.csv')\n",
    "data = data_total.copy()"
   ]
  },
  {
   "cell_type": "code",
   "execution_count": 4,
   "metadata": {
    "scrolled": true
   },
   "outputs": [
    {
     "name": "stdout",
     "output_type": "stream",
     "text": [
      "<class 'pandas.core.frame.DataFrame'>\n",
      "RangeIndex: 160 entries, 0 to 159\n",
      "Data columns (total 28 columns):\n",
      "Long                        160 non-null float64\n",
      "Lat                         160 non-null float64\n",
      "S_No_                       160 non-null int64\n",
      "USIN                        160 non-null int64\n",
      "State                       160 non-null object\n",
      "District                    160 non-null object\n",
      "Block_Mand                  160 non-null object\n",
      "Village                     160 non-null object\n",
      "CCE_Date                    160 non-null object\n",
      "Target_Cro                  160 non-null object\n",
      "QC_Status                   160 non-null object\n",
      "Wet_Weight                  160 non-null float64\n",
      "Dry_Weight                  160 non-null float64\n",
      "Yield_kg_h                  160 non-null float64\n",
      "Bara_Banki_max_GS           160 non-null float64\n",
      "Bara_Banki_max_VS           160 non-null float64\n",
      "Bara_Banki_min_GS           160 non-null float64\n",
      "Bara_Banki_min_VS           160 non-null float64\n",
      "Bara_Banki_rf_GS            160 non-null float64\n",
      "Bara_Banki_rf_VS            160 non-null float64\n",
      "barabanki_10_oct_250m_sm    160 non-null float64\n",
      "Barabanki_14_aug_sm_250m    160 non-null float64\n",
      "CCCI_Barabanki              160 non-null float64\n",
      "CWSI_Barabanki              160 non-null float64\n",
      "EVI_241_UP_Bara             160 non-null float64\n",
      "EVI_273_UP_Bara             160 non-null float64\n",
      "NDVI_241_UP_Bara            160 non-null float64\n",
      "NDVI_273_UP_Bara            160 non-null float64\n",
      "dtypes: float64(19), int64(2), object(7)\n",
      "memory usage: 35.1+ KB\n"
     ]
    }
   ],
   "source": [
    "data.info()"
   ]
  },
  {
   "cell_type": "code",
   "execution_count": 5,
   "metadata": {},
   "outputs": [],
   "source": [
    "corr = data.corr()"
   ]
  },
  {
   "cell_type": "code",
   "execution_count": 6,
   "metadata": {},
   "outputs": [],
   "source": [
    "corr.to_excel('Barabanki_Corr.xlsx')"
   ]
  },
  {
   "cell_type": "code",
   "execution_count": 7,
   "metadata": {},
   "outputs": [],
   "source": [
    "data.drop(data[data.Yield_kg_h < 500].index, inplace=True, axis=0)"
   ]
  },
  {
   "cell_type": "code",
   "execution_count": 8,
   "metadata": {},
   "outputs": [],
   "source": [
    "X = data[['Bara_Banki_max_GS','Bara_Banki_min_GS','Bara_Banki_min_VS','Barabanki_14_aug_sm_250m','CWSI_Barabanki','EVI_273_UP_Bara','NDVI_273_UP_Bara']]\n",
    "Y = data.Yield_kg_h"
   ]
  },
  {
   "cell_type": "code",
   "execution_count": 9,
   "metadata": {},
   "outputs": [
    {
     "name": "stdout",
     "output_type": "stream",
     "text": [
      "<class 'pandas.core.frame.DataFrame'>\n",
      "Int64Index: 159 entries, 0 to 159\n",
      "Data columns (total 7 columns):\n",
      "Bara_Banki_max_GS           159 non-null float64\n",
      "Bara_Banki_min_GS           159 non-null float64\n",
      "Bara_Banki_min_VS           159 non-null float64\n",
      "Barabanki_14_aug_sm_250m    159 non-null float64\n",
      "CWSI_Barabanki              159 non-null float64\n",
      "EVI_273_UP_Bara             159 non-null float64\n",
      "NDVI_273_UP_Bara            159 non-null float64\n",
      "dtypes: float64(7)\n",
      "memory usage: 9.9 KB\n"
     ]
    }
   ],
   "source": [
    "X.info()"
   ]
  },
  {
   "cell_type": "code",
   "execution_count": 10,
   "metadata": {},
   "outputs": [],
   "source": [
    "from sklearn.model_selection import train_test_split"
   ]
  },
  {
   "cell_type": "code",
   "execution_count": 11,
   "metadata": {},
   "outputs": [],
   "source": [
    "from sklearn.ensemble import RandomForestRegressor\n",
    "from sklearn.metrics import r2_score"
   ]
  },
  {
   "cell_type": "code",
   "execution_count": 12,
   "metadata": {
    "scrolled": false
   },
   "outputs": [
    {
     "name": "stdout",
     "output_type": "stream",
     "text": [
      "Train score: 0.6353000467614911\n",
      "Test score: 0.602672022028329\n",
      "29     38.678496\n",
      "42    -16.013111\n",
      "14     28.919938\n",
      "91    -13.231019\n",
      "81     49.477877\n",
      "19     -3.642082\n",
      "44     -0.329451\n",
      "11    -13.363883\n",
      "40      0.166630\n",
      "97     18.834900\n",
      "89     -5.680184\n",
      "94    -29.564735\n",
      "73     -5.895196\n",
      "105    22.862678\n",
      "59     -4.300727\n",
      "90    -11.074580\n",
      "Name: Yield_kg_h, dtype: float64\n"
     ]
    }
   ],
   "source": [
    "X_train, X_test, Y_train, Y_test = train_test_split(X, Y, random_state = 1, test_size=0.1)\n",
    "rf = RandomForestRegressor(n_estimators=90, max_depth=12, min_samples_split=3, random_state=37)\n",
    "rf.fit(X_train, Y_train)\n",
    "x_pred = rf.predict(X_train)\n",
    "y_pred = rf.predict(X_test)\n",
    "print('Train score:', r2_score(x_pred, Y_train))\n",
    "print('Test score:', r2_score(Y_test, y_pred))\n",
    "devs = ((y_pred-Y_test)/Y_test)*100\n",
    "print(devs)"
   ]
  },
  {
   "cell_type": "code",
   "execution_count": 13,
   "metadata": {},
   "outputs": [],
   "source": [
    "import xgboost as xgb"
   ]
  },
  {
   "cell_type": "code",
   "execution_count": 14,
   "metadata": {},
   "outputs": [
    {
     "name": "stdout",
     "output_type": "stream",
     "text": [
      "Train score:  0.9999943156765183\n",
      "Test score:  0.5200819936882792\n"
     ]
    }
   ],
   "source": [
    "xg_reg = xgb.XGBRegressor(objective ='reg:squarederror', colsample_bytree = 0.8, learning_rate = 0.87,\n",
    "            max_depth = 5, alpha = 6, n_estimators = 100)\n",
    "xg_reg.fit(X_train,Y_train)\n",
    "\n",
    "x_pred_xgb = xg_reg.predict(X_train)\n",
    "y_pred_xgb = xg_reg.predict(X_test)\n",
    "print(\"Train score: \", r2_score(x_pred_xgb,Y_train))\n",
    "print(\"Test score: \", r2_score(Y_test, y_pred_xgb))"
   ]
  },
  {
   "cell_type": "markdown",
   "metadata": {},
   "source": [
    "### Analysis"
   ]
  },
  {
   "cell_type": "code",
   "execution_count": 15,
   "metadata": {},
   "outputs": [],
   "source": [
    "low_thresh = np.mean(data.Yield_kg_h)-2*np.std(data.Yield_kg_h)\n",
    "upp_thresh = np.mean(data.Yield_kg_h)+2*np.std(data.Yield_kg_h)"
   ]
  },
  {
   "cell_type": "code",
   "execution_count": 16,
   "metadata": {},
   "outputs": [],
   "source": [
    "selected_Data = data[np.logical_and(data.Yield_kg_h > low_thresh, data.Yield_kg_h < upp_thresh)].copy()"
   ]
  },
  {
   "cell_type": "code",
   "execution_count": 17,
   "metadata": {},
   "outputs": [],
   "source": [
    "selected_Data['Avg_max'] = (selected_Data.Bara_Banki_max_GS+selected_Data.Bara_Banki_max_VS)/2\n",
    "selected_Data['Avg_min'] = (selected_Data.Bara_Banki_min_GS+selected_Data.Bara_Banki_min_VS)/2\n",
    "selected_Data['Sum_rf'] = (selected_Data.Bara_Banki_rf_GS+selected_Data.Bara_Banki_rf_VS)"
   ]
  },
  {
   "cell_type": "code",
   "execution_count": 18,
   "metadata": {
    "scrolled": true
   },
   "outputs": [],
   "source": [
    "selected_Data.drop(columns=['Bara_Banki_max_GS','Bara_Banki_max_VS','Bara_Banki_min_GS','Bara_Banki_min_VS',\n",
    "                           'Bara_Banki_rf_GS','Bara_Banki_rf_VS','Long','Lat','S_No_','USIN','State','District',\n",
    "                           'Block_Mand','Village','CCE_Date','Target_Cro','QC_Status','Wet_Weight','Dry_Weight'], inplace=True)"
   ]
  },
  {
   "cell_type": "code",
   "execution_count": 19,
   "metadata": {},
   "outputs": [],
   "source": [
    "X = selected_Data.drop(['Yield_kg_h'],axis=1)\n",
    "Y = selected_Data.Yield_kg_h"
   ]
  },
  {
   "cell_type": "code",
   "execution_count": 20,
   "metadata": {},
   "outputs": [
    {
     "name": "stdout",
     "output_type": "stream",
     "text": [
      "Train score: 0.6774061825799413\n",
      "Test score: 0.6776274378459982\n",
      "42    -13.790216\n",
      "9      43.528023\n",
      "25     57.082835\n",
      "49    -21.024613\n",
      "67     -0.042593\n",
      "50     -9.354118\n",
      "77     13.713099\n",
      "5       9.075972\n",
      "86     -6.901270\n",
      "76     11.006376\n",
      "108    34.806007\n",
      "44     -1.723412\n",
      "64      2.560178\n",
      "79     23.945514\n",
      "85     26.525685\n",
      "128   -17.220249\n",
      "Name: Yield_kg_h, dtype: float64\n"
     ]
    }
   ],
   "source": [
    "X_train, X_test, Y_train, Y_test = train_test_split(X, Y, random_state = 46, test_size=0.1)\n",
    "rf = RandomForestRegressor(n_estimators=25, max_depth=10, min_samples_split=3, random_state=10)\n",
    "rf.fit(X_train, Y_train)\n",
    "x_pred = rf.predict(X_train)\n",
    "y_pred = rf.predict(X_test)\n",
    "print('Train score:', r2_score(x_pred, Y_train))\n",
    "print('Test score:', r2_score(Y_test, y_pred))\n",
    "devs = ((y_pred-Y_test)/Y_test)*100\n",
    "print(devs)"
   ]
  },
  {
   "cell_type": "code",
   "execution_count": 21,
   "metadata": {},
   "outputs": [],
   "source": [
    "data.drop(['Bara_Banki_max_GS','Bara_Banki_max_VS','Bara_Banki_min_GS','Bara_Banki_min_VS',\n",
    "                           'Bara_Banki_rf_GS','Bara_Banki_rf_VS','Long','Lat','S_No_','USIN','State','District',\n",
    "                           'Block_Mand','Village','CCE_Date','Target_Cro','QC_Status','Wet_Weight','Dry_Weight'],\n",
    "         axis=1,inplace=True)"
   ]
  },
  {
   "cell_type": "code",
   "execution_count": 22,
   "metadata": {},
   "outputs": [],
   "source": [
    "output = data_total.iloc[X_test.index].copy()\n",
    "output['Avg_max'] = X_test.Avg_max\n",
    "output['Avg_min'] = X_test.Avg_min\n",
    "output['Sum_rf'] = X_test.Sum_rf\n",
    "output['Prediction'] = y_pred\n",
    "output.reset_index(drop=True, inplace=True)\n",
    "output.to_excel(\"Barabanki_250M_Predictions.xlsx\")"
   ]
  },
  {
   "cell_type": "markdown",
   "metadata": {},
   "source": [
    "### Final model is RF"
   ]
  },
  {
   "cell_type": "markdown",
   "metadata": {},
   "source": [
    "### Final Predictions"
   ]
  },
  {
   "cell_type": "code",
   "execution_count": 28,
   "metadata": {},
   "outputs": [],
   "source": [
    "data2 = pd.read_csv('250M_INPUT_FOR_YIELD_MAP/BARABANKI_250_sm_aug.txt')\n",
    "data1 = data2.copy()"
   ]
  },
  {
   "cell_type": "code",
   "execution_count": 29,
   "metadata": {},
   "outputs": [],
   "source": [
    "data1[data1 == -9999] = np.NaN\n",
    "data1.dropna(inplace=True)"
   ]
  },
  {
   "cell_type": "code",
   "execution_count": 30,
   "metadata": {},
   "outputs": [],
   "source": [
    "data1['Avg_max'] = (data1.MAX_GS_1+data1.MAX_VS)/2\n",
    "data1['Avg_min'] = (data1.MIN_GS+data1.MIN_VS)/2\n",
    "data1['Sum_rf'] = (data1.RF_GS+data1.RF_VS)"
   ]
  },
  {
   "cell_type": "code",
   "execution_count": 31,
   "metadata": {},
   "outputs": [],
   "source": [
    "data1.drop(['FID', 'pointid', 'grid_code', 'POINT_X', 'POINT_Y', 'MAX_VS', 'MIN_GS',\n",
    "       'MIN_VS', 'RF_GS', 'RF_VS','MAX_GS_1'],axis=1,inplace=True)"
   ]
  },
  {
   "cell_type": "code",
   "execution_count": 32,
   "metadata": {},
   "outputs": [
    {
     "name": "stdout",
     "output_type": "stream",
     "text": [
      "<class 'pandas.core.frame.DataFrame'>\n",
      "Int64Index: 64520 entries, 1089 to 102653\n",
      "Data columns (total 11 columns):\n",
      "SM_OCT      64520 non-null float64\n",
      "SM_AUG      64520 non-null float64\n",
      "CCCI        64520 non-null float64\n",
      "CWSI        64520 non-null float64\n",
      "EVI_241     64520 non-null float64\n",
      "EVI_273     64520 non-null float64\n",
      "NDVI_241    64520 non-null float64\n",
      "NDVI_273    64520 non-null float64\n",
      "Avg_max     64520 non-null float64\n",
      "Avg_min     64520 non-null float64\n",
      "Sum_rf      64520 non-null float64\n",
      "dtypes: float64(11)\n",
      "memory usage: 5.9 MB\n"
     ]
    }
   ],
   "source": [
    "data1.info()"
   ]
  },
  {
   "cell_type": "code",
   "execution_count": 33,
   "metadata": {},
   "outputs": [],
   "source": [
    "data1.rename(columns={'SM_OCT':'barabanki_10_oct_250m_sm', 'SM_AUG':'Barabanki_14_aug_sm_250m',\n",
    "                      'CCCI':'CCCI_Barabanki', 'CWSI':'CWSI_Barabanki',\n",
    "                      'EVI_241':'EVI_241_UP_Bara', 'EVI_273':'EVI_273_UP_Bara',\n",
    "                      'NDVI_241':'NDVI_241_UP_Bara', 'NDVI_273':'NDVI_273_UP_Bara'},inplace=True)"
   ]
  },
  {
   "cell_type": "code",
   "execution_count": 34,
   "metadata": {},
   "outputs": [],
   "source": [
    "data1 = data1[['barabanki_10_oct_250m_sm', 'Barabanki_14_aug_sm_250m',\n",
    "       'CCCI_Barabanki', 'CWSI_Barabanki', 'EVI_241_UP_Bara',\n",
    "       'EVI_273_UP_Bara', 'NDVI_241_UP_Bara', 'NDVI_273_UP_Bara', 'Avg_max',\n",
    "       'Avg_min', 'Sum_rf']]"
   ]
  },
  {
   "cell_type": "code",
   "execution_count": 35,
   "metadata": {},
   "outputs": [],
   "source": [
    "final_pred = rf.predict(data1)"
   ]
  },
  {
   "cell_type": "code",
   "execution_count": 36,
   "metadata": {},
   "outputs": [],
   "source": [
    "data1['POINT_X'] = data2.iloc[data1.index][['POINT_X']]\n",
    "data1['POINT_Y'] = data2.iloc[data1.index][['POINT_Y']]"
   ]
  },
  {
   "cell_type": "code",
   "execution_count": 37,
   "metadata": {},
   "outputs": [],
   "source": [
    "data1['Prediction'] = final_pred"
   ]
  },
  {
   "cell_type": "code",
   "execution_count": 38,
   "metadata": {},
   "outputs": [],
   "source": [
    "data1.to_csv('250M_INPUT_FOR_YIELD_MAP/BARABANKI_250M_Predictions.csv')"
   ]
  },
  {
   "cell_type": "code",
   "execution_count": 4,
   "metadata": {},
   "outputs": [
    {
     "data": {
      "text/plain": [
       "1915.30125"
      ]
     },
     "execution_count": 4,
     "metadata": {},
     "output_type": "execute_result"
    }
   ],
   "source": [
    "np.mean(data.Yield_kg_h)"
   ]
  },
  {
   "cell_type": "code",
   "execution_count": 40,
   "metadata": {},
   "outputs": [
    {
     "data": {
      "text/plain": [
       "1944.3775354390218"
      ]
     },
     "execution_count": 40,
     "metadata": {},
     "output_type": "execute_result"
    }
   ],
   "source": [
    "np.mean(final_pred)"
   ]
  }
 ],
 "metadata": {
  "kernelspec": {
   "display_name": "Python 3",
   "language": "python",
   "name": "python3"
  },
  "language_info": {
   "codemirror_mode": {
    "name": "ipython",
    "version": 3
   },
   "file_extension": ".py",
   "mimetype": "text/x-python",
   "name": "python",
   "nbconvert_exporter": "python",
   "pygments_lexer": "ipython3",
   "version": "3.7.3"
  }
 },
 "nbformat": 4,
 "nbformat_minor": 2
}
