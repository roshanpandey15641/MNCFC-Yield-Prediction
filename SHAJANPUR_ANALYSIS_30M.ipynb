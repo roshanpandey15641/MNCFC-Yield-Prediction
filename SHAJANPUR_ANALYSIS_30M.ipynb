{
 "cells": [
  {
   "cell_type": "code",
   "execution_count": 1,
   "metadata": {
    "collapsed": true
   },
   "outputs": [],
   "source": [
    "import numpy as np\n",
    "import pandas as pd\n",
    "import matplotlib.pyplot as plt\n",
    "import seaborn as sns"
   ]
  },
  {
   "cell_type": "code",
   "execution_count": 2,
   "metadata": {
    "collapsed": true
   },
   "outputs": [],
   "source": [
    "from sklearn.model_selection import train_test_split\n",
    "from sklearn.ensemble import RandomForestRegressor\n",
    "from sklearn.metrics import r2_score\n",
    "\n",
    "import xgboost as xgb"
   ]
  },
  {
   "cell_type": "code",
   "execution_count": 3,
   "metadata": {
    "collapsed": true
   },
   "outputs": [],
   "source": [
    "%matplotlib inline\n",
    "plt.rcParams['font.size']=14\n",
    "plt.rcParams['axes.titlepad']= 8\n",
    "plt.rcParams['axes.titlesize']= 'medium'\n",
    "plt.rcParams['axes.grid']=True\n",
    "plt.rcParams['figure.figsize'] = (5,5)\n",
    "plt.rcParams['axes.facecolor'] = 'white'"
   ]
  },
  {
   "cell_type": "code",
   "execution_count": 4,
   "metadata": {
    "collapsed": true
   },
   "outputs": [],
   "source": [
    "data_total = pd.read_csv('Shajanpur_CCE_Extract_One_Stage.csv')\n",
    "data = data_total.copy()"
   ]
  },
  {
   "cell_type": "code",
   "execution_count": 5,
   "metadata": {
    "scrolled": true
   },
   "outputs": [
    {
     "name": "stdout",
     "output_type": "stream",
     "text": [
      "<class 'pandas.core.frame.DataFrame'>\n",
      "RangeIndex: 162 entries, 0 to 161\n",
      "Data columns (total 41 columns):\n",
      "USIN                                     162 non-null int64\n",
      "State                                    162 non-null object\n",
      "District                                 162 non-null object\n",
      "Block_Mand                               162 non-null object\n",
      "Gram_Panch                               162 non-null object\n",
      "Village                                  162 non-null object\n",
      "CCE_Date                                 162 non-null object\n",
      "Lat                                      162 non-null float64\n",
      "Long                                     162 non-null float64\n",
      "Target_Cro                               162 non-null object\n",
      "Crop_Varie                               162 non-null object\n",
      "Irrigated                                162 non-null object\n",
      "Any_Stress                               162 non-null object\n",
      "CCE_Plot_S                               162 non-null object\n",
      "Biomass_We                               162 non-null float64\n",
      "Biomass__M                               162 non-null float64\n",
      "Grain_Weig                               162 non-null float64\n",
      "Grain__Mos                               162 non-null float64\n",
      "Thousand                                 162 non-null int64\n",
      "Dry_weight                               162 non-null float64\n",
      "State_1                                  162 non-null object\n",
      "District_1                               162 non-null object\n",
      "Sub_Distri                               162 non-null object\n",
      "Village_1                                162 non-null object\n",
      "UID                                      162 non-null object\n",
      "CE_GP_Code                               162 non-null int64\n",
      "CE_G_P                                   161 non-null object\n",
      "Remark                                   162 non-null object\n",
      "Yield_kg_h                               162 non-null float64\n",
      "CCCI_Shajanpur_GS                        162 non-null float64\n",
      "CWSI_Shajanpur_GS                        162 non-null float64\n",
      "evi_shajhapur_16_march_2021__gcs_30m     162 non-null float64\n",
      "ndvi_shajhapur_16_march_2021__gcs_30m    162 non-null float64\n",
      "SM_Shajapur_GS                           162 non-null float64\n",
      "SM_Shajapur_VS                           162 non-null float64\n",
      "UP_Shahjahanpur_min_GS                   162 non-null float64\n",
      "UP_Shahjahanpur_min_VS                   162 non-null float64\n",
      "UP_Shahjahanpur_rf_GS                    162 non-null float64\n",
      "UP_Shahjahanpur_rf_VS                    162 non-null float64\n",
      "UP_Shajahapur_max_GS                     162 non-null float64\n",
      "UP_Shajahapur_max_VS                     162 non-null float64\n",
      "dtypes: float64(20), int64(3), object(18)\n",
      "memory usage: 52.0+ KB\n"
     ]
    }
   ],
   "source": [
    "data.info()"
   ]
  },
  {
   "cell_type": "code",
   "execution_count": 6,
   "metadata": {
    "collapsed": true
   },
   "outputs": [],
   "source": [
    "corr = data.corr()"
   ]
  },
  {
   "cell_type": "code",
   "execution_count": 7,
   "metadata": {
    "collapsed": true,
    "scrolled": true
   },
   "outputs": [],
   "source": [
    "corr.to_excel(\"Shajanpur_Corr_30M.xlsx\")"
   ]
  },
  {
   "cell_type": "code",
   "execution_count": 8,
   "metadata": {
    "scrolled": true
   },
   "outputs": [
    {
     "data": {
      "text/plain": [
       "USIN                                    -0.419377\n",
       "Lat                                      0.493326\n",
       "Long                                     0.514274\n",
       "Biomass_We                               0.943014\n",
       "Biomass__M                               0.377078\n",
       "Grain_Weig                               1.000000\n",
       "Grain__Mos                               0.375403\n",
       "Thousand                                 0.060846\n",
       "Dry_weight                               1.000000\n",
       "CE_GP_Code                              -0.127742\n",
       "Yield_kg_h                               1.000000\n",
       "CCCI_Shajanpur_GS                        0.074520\n",
       "CWSI_Shajanpur_GS                        0.279380\n",
       "evi_shajhapur_16_march_2021__gcs_30m    -0.254800\n",
       "ndvi_shajhapur_16_march_2021__gcs_30m   -0.253180\n",
       "SM_Shajapur_GS                           0.018414\n",
       "SM_Shajapur_VS                          -0.145195\n",
       "UP_Shahjahanpur_min_GS                   0.317366\n",
       "UP_Shahjahanpur_min_VS                   0.493311\n",
       "UP_Shahjahanpur_rf_GS                   -0.506779\n",
       "UP_Shahjahanpur_rf_VS                   -0.278247\n",
       "UP_Shajahapur_max_GS                    -0.446401\n",
       "UP_Shajahapur_max_VS                    -0.365406\n",
       "Name: Yield_kg_h, dtype: float64"
      ]
     },
     "execution_count": 8,
     "metadata": {},
     "output_type": "execute_result"
    }
   ],
   "source": [
    "corr.Yield_kg_h"
   ]
  },
  {
   "cell_type": "code",
   "execution_count": 9,
   "metadata": {
    "collapsed": true
   },
   "outputs": [],
   "source": [
    "X = data[['CWSI_Shajanpur_GS','UP_Shahjahanpur_min_GS','UP_Shahjahanpur_min_VS']]\n",
    "Y = data.Yield_kg_h"
   ]
  },
  {
   "cell_type": "code",
   "execution_count": 10,
   "metadata": {},
   "outputs": [
    {
     "name": "stdout",
     "output_type": "stream",
     "text": [
      "<class 'pandas.core.frame.DataFrame'>\n",
      "RangeIndex: 162 entries, 0 to 161\n",
      "Data columns (total 3 columns):\n",
      "CWSI_Shajanpur_GS         162 non-null float64\n",
      "UP_Shahjahanpur_min_GS    162 non-null float64\n",
      "UP_Shahjahanpur_min_VS    162 non-null float64\n",
      "dtypes: float64(3)\n",
      "memory usage: 3.9 KB\n"
     ]
    }
   ],
   "source": [
    "X.info()"
   ]
  },
  {
   "cell_type": "code",
   "execution_count": 11,
   "metadata": {
    "scrolled": true
   },
   "outputs": [
    {
     "name": "stdout",
     "output_type": "stream",
     "text": [
      "Train scores: 0.784198006601\n",
      "Test scores: 0.7055225982\n",
      "26     24.954166\n",
      "69      4.676925\n",
      "118    17.238284\n",
      "152     0.281000\n",
      "52     21.820996\n",
      "146     3.590833\n",
      "22    -12.754479\n",
      "104     1.167150\n",
      "150    -7.757086\n",
      "56     13.669987\n",
      "51     17.198554\n",
      "160    13.689114\n",
      "151    -8.091121\n",
      "41      7.371709\n",
      "85     21.151007\n",
      "126    33.831208\n",
      "128    13.080035\n",
      "Name: Yield_kg_h, dtype: float64\n",
      "Mean Deviation:  13.07786197697976\n"
     ]
    }
   ],
   "source": [
    "# scores=[]\n",
    "# scores1=[]\n",
    "# for i in range(100):\n",
    "#     print(i)\n",
    "X_train, X_test, Y_train, Y_test = train_test_split(X, Y, random_state = 11, test_size=0.1)\n",
    "rfp = RandomForestRegressor(n_estimators=14, max_depth=12, min_samples_split=4, random_state=30)\n",
    "rfp.fit(X_train, Y_train)\n",
    "x_predp = rfp.predict(X_train)\n",
    "y_predp = rfp.predict(X_test)\n",
    "print(\"Train scores:\",r2_score(Y_train, x_predp))\n",
    "print(\"Test scores:\",r2_score(Y_test, y_predp))\n",
    "#     scores.append(r2_score(x_predp, Y_train))\n",
    "#     scores1.append(r2_score(Y_test, y_predp))\n",
    "devsp = ((y_predp-Y_test)/Y_test)*100\n",
    "# print(np.max(scores1))\n",
    "print(devsp)\n",
    "print(\"Mean Deviation: \", np.mean(np.abs(devsp)))"
   ]
  },
  {
   "cell_type": "code",
   "execution_count": 12,
   "metadata": {
    "scrolled": true
   },
   "outputs": [
    {
     "data": {
      "text/plain": [
       "<matplotlib.collections.PathCollection at 0x1eba98c2240>"
      ]
     },
     "execution_count": 12,
     "metadata": {},
     "output_type": "execute_result"
    },
    {
     "data": {
      "image/png": "[encoded data removed]",
      "text/plain": [
       "<matplotlib.figure.Figure at 0x1ebad662e48>"
      ]
     },
     "metadata": {},
     "output_type": "display_data"
    }
   ],
   "source": [
    "plt.scatter(Y_test, y_predp)"
   ]
  },
  {
   "cell_type": "code",
   "execution_count": 13,
   "metadata": {
    "scrolled": true
   },
   "outputs": [
    {
     "name": "stdout",
     "output_type": "stream",
     "text": [
      "Train score:  0.900542221162\n",
      "Test score:  0.483285828317\n",
      "106     0.703405\n",
      "34     31.019122\n",
      "159     0.875214\n",
      "68     -2.555301\n",
      "135     0.509178\n",
      "83     -0.058748\n",
      "147    34.328881\n",
      "130     2.102233\n",
      "143    -6.281961\n",
      "89     -5.716001\n",
      "4      28.679742\n",
      "59     -6.479759\n",
      "73     16.473804\n",
      "38     -9.204563\n",
      "50      7.215656\n",
      "129   -19.721055\n",
      "136   -16.669939\n",
      "Name: Yield_kg_h, dtype: float64\n",
      "Mean Deviation:  11.093797853970015\n"
     ]
    },
    {
     "name": "stderr",
     "output_type": "stream",
     "text": [
      "D:\\Anaconda\\lib\\site-packages\\xgboost\\data.py:115: UserWarning: Use subset (sliced data) of np.ndarray is not recommended because it will generate extra copies and increase memory consumption\n",
      "  \"memory consumption\")\n",
      "D:\\Anaconda\\lib\\site-packages\\xgboost\\data.py:115: UserWarning: Use subset (sliced data) of np.ndarray is not recommended because it will generate extra copies and increase memory consumption\n",
      "  \"memory consumption\")\n"
     ]
    }
   ],
   "source": [
    "# scores=[]\n",
    "# scores1=[]\n",
    "# for i in np.arange(0.1,1,0.01):\n",
    "#     print(i)\n",
    "X_train, X_test, Y_train, Y_test = train_test_split(X, Y, random_state = 71, test_size=0.1)\n",
    "xg_reg = xgb.XGBRegressor(objective ='reg:squarederror', colsample_bytree = 0.7, learning_rate = 0.39,\n",
    "                max_depth = 7, alpha = 17, n_estimators = 14)\n",
    "xg_reg.fit(X_train,Y_train)\n",
    "\n",
    "x_pred_xgbp = xg_reg.predict(X_train)\n",
    "y_pred_xgbp = xg_reg.predict(X_test)\n",
    "print(\"Train score: \",r2_score(Y_train, x_pred_xgbp))\n",
    "print(\"Test score: \",r2_score(Y_test, y_pred_xgbp))\n",
    "#     scores.append(r2_score(Y_train, x_pred_xgbp))\n",
    "#     scores1.append(r2_score(Y_test, y_pred_xgbp))\n",
    "devs_xgbp = ((y_pred_xgbp-Y_test)/Y_test)*100\n",
    "# print(np.max(scores1))\n",
    "print(devs_xgbp)\n",
    "print(\"Mean Deviation: \", np.mean(np.abs(devs_xgbp)))"
   ]
  },
  {
   "cell_type": "code",
   "execution_count": 14,
   "metadata": {},
   "outputs": [
    {
     "data": {
      "text/plain": [
       "<matplotlib.collections.PathCollection at 0x1ebae346240>"
      ]
     },
     "execution_count": 14,
     "metadata": {},
     "output_type": "execute_result"
    },
    {
     "data": {
      "image/png": "[encoded data removed]",
      "text/plain": [
       "<matplotlib.figure.Figure at 0x1ebadb648d0>"
      ]
     },
     "metadata": {},
     "output_type": "display_data"
    }
   ],
   "source": [
    "plt.scatter(Y_test, y_pred_xgbp)"
   ]
  },
  {
   "cell_type": "markdown",
   "metadata": {},
   "source": [
    "# Final model is RF"
   ]
  },
  {
   "cell_type": "code",
   "execution_count": 15,
   "metadata": {
    "collapsed": true
   },
   "outputs": [],
   "source": [
    "output = data_total.iloc[X_test.index].copy()\n",
    "\n",
    "output['Predictions'] = y_predp\n",
    "output.reset_index(drop=True, inplace=True)\n",
    "output.to_excel(\"Shajanpur_30M_Predictions.xlsx\")"
   ]
  },
  {
   "cell_type": "code",
   "execution_count": null,
   "metadata": {
    "collapsed": true
   },
   "outputs": [],
   "source": []
  },
  {
   "cell_type": "code",
   "execution_count": null,
   "metadata": {
    "collapsed": true
   },
   "outputs": [],
   "source": []
  },
  {
   "cell_type": "markdown",
   "metadata": {},
   "source": [
    "###  Analysis"
   ]
  },
  {
   "cell_type": "code",
   "execution_count": 36,
   "metadata": {
    "collapsed": true
   },
   "outputs": [],
   "source": [
    "data = pd.read_csv('Train_data/Aurangabad_CCE_Extract_One_Stage_30m.csv')"
   ]
  },
  {
   "cell_type": "code",
   "execution_count": 37,
   "metadata": {
    "scrolled": true
   },
   "outputs": [
    {
     "name": "stdout",
     "output_type": "stream",
     "text": [
      "<class 'pandas.core.frame.DataFrame'>\n",
      "RangeIndex: 162 entries, 0 to 161\n",
      "Data columns (total 31 columns):\n",
      "USIN                                              162 non-null int64\n",
      "State                                             162 non-null object\n",
      "District                                          162 non-null object\n",
      "Block_Mand                                        162 non-null object\n",
      "Gram_Panch                                        162 non-null object\n",
      "Village                                           162 non-null object\n",
      "CE_GP_Code                                        162 non-null int64\n",
      "CE_G_P                                            161 non-null object\n",
      "CCE_Date                                          162 non-null object\n",
      "Lat                                               162 non-null float64\n",
      "Long                                              162 non-null float64\n",
      "Target_Cro                                        162 non-null object\n",
      "State_1                                           162 non-null object\n",
      "District_1                                        162 non-null object\n",
      "Sub_Distri                                        162 non-null object\n",
      "Village_1                                         162 non-null object\n",
      "UID                                               162 non-null object\n",
      "Remark                                            162 non-null object\n",
      "Yield_kg_h                                        162 non-null float64\n",
      "arugabad_01_03_jan_soil_moisture_mosaic_subset    162 non-null float64\n",
      "aurangabad_04_march_soil_moisture                 162 non-null float64\n",
      "BH_Aurangabad_max_GS                              162 non-null float64\n",
      "BH_Aurangabad_max_VS                              162 non-null float64\n",
      "BH_Aurangabad_min_GS                              162 non-null float64\n",
      "BH_Aurangabad_min_VS                              162 non-null float64\n",
      "BH_Aurangabad_rf_GS                               162 non-null float64\n",
      "BH_Aurangabad_rf_VS                               162 non-null float64\n",
      "CCCI_Aurangabad_30                                162 non-null float64\n",
      "CWSI_Aurangabad_30                                162 non-null float64\n",
      "EVI_sen2_aurangabad_20210224_gcs_30               162 non-null float64\n",
      "NDVI_sen2_aurangabad_20210224_gcs_30              162 non-null float64\n",
      "dtypes: float64(15), int64(2), object(14)\n",
      "memory usage: 39.3+ KB\n"
     ]
    }
   ],
   "source": [
    "data.info()"
   ]
  },
  {
   "cell_type": "code",
   "execution_count": 38,
   "metadata": {
    "collapsed": true
   },
   "outputs": [],
   "source": [
    "data.drop(['USIN','State','District','Block_Mand','Gram_Panch','Village','CE_GP_Code','CE_G_P',\n",
    "           'CCE_Date','Lat','Long','Target_Cro','State_1','District_1','Sub_Distri','Village_1',\n",
    "           'UID','Remark'],axis=1, inplace=True)"
   ]
  },
  {
   "cell_type": "code",
   "execution_count": 39,
   "metadata": {
    "collapsed": true
   },
   "outputs": [],
   "source": [
    "### Thresholding is applied for outlier treatment\n",
    "low_thresh = np.mean(data.Yield_kg_h)-2*np.std(data.Yield_kg_h)\n",
    "upp_thresh = np.mean(data.Yield_kg_h)+2*np.std(data.Yield_kg_h)"
   ]
  },
  {
   "cell_type": "code",
   "execution_count": 40,
   "metadata": {},
   "outputs": [
    {
     "data": {
      "text/plain": [
       "(1290.495569007717, 4243.437764325617)"
      ]
     },
     "execution_count": 40,
     "metadata": {},
     "output_type": "execute_result"
    }
   ],
   "source": [
    "low_thresh,upp_thresh"
   ]
  },
  {
   "cell_type": "code",
   "execution_count": 41,
   "metadata": {},
   "outputs": [
    {
     "data": {
      "text/plain": [
       "<seaborn.axisgrid.FacetGrid at 0x2872cf9b710>"
      ]
     },
     "execution_count": 41,
     "metadata": {},
     "output_type": "execute_result"
    },
    {
     "data": {
      "image/png": "[encoded data removed]",
      "text/plain": [
       "<Figure size 360x360 with 1 Axes>"
      ]
     },
     "metadata": {
      "needs_background": "light"
     },
     "output_type": "display_data"
    }
   ],
   "source": [
    "sns.displot(data.Yield_kg_h, bins=30)"
   ]
  },
  {
   "cell_type": "code",
   "execution_count": 42,
   "metadata": {
    "collapsed": true
   },
   "outputs": [],
   "source": [
    "data = data[np.logical_and(data.Yield_kg_h > low_thresh, data.Yield_kg_h < upp_thresh)]"
   ]
  },
  {
   "cell_type": "code",
   "execution_count": 43,
   "metadata": {},
   "outputs": [
    {
     "data": {
      "text/plain": [
       "<seaborn.axisgrid.FacetGrid at 0x2872cf7fda0>"
      ]
     },
     "execution_count": 43,
     "metadata": {},
     "output_type": "execute_result"
    },
    {
     "data": {
      "image/png": "[encoded data removed]",
      "text/plain": [
       "<Figure size 360x360 with 1 Axes>"
      ]
     },
     "metadata": {
      "needs_background": "light"
     },
     "output_type": "display_data"
    }
   ],
   "source": [
    "sns.displot(data.Yield_kg_h, bins=30)"
   ]
  },
  {
   "cell_type": "code",
   "execution_count": 44,
   "metadata": {},
   "outputs": [
    {
     "name": "stdout",
     "output_type": "stream",
     "text": [
      "<class 'pandas.core.frame.DataFrame'>\n",
      "Int64Index: 151 entries, 0 to 161\n",
      "Data columns (total 13 columns):\n",
      "Yield_kg_h                                        151 non-null float64\n",
      "arugabad_01_03_jan_soil_moisture_mosaic_subset    151 non-null float64\n",
      "aurangabad_04_march_soil_moisture                 151 non-null float64\n",
      "BH_Aurangabad_max_GS                              151 non-null float64\n",
      "BH_Aurangabad_max_VS                              151 non-null float64\n",
      "BH_Aurangabad_min_GS                              151 non-null float64\n",
      "BH_Aurangabad_min_VS                              151 non-null float64\n",
      "BH_Aurangabad_rf_GS                               151 non-null float64\n",
      "BH_Aurangabad_rf_VS                               151 non-null float64\n",
      "CCCI_Aurangabad_30                                151 non-null float64\n",
      "CWSI_Aurangabad_30                                151 non-null float64\n",
      "EVI_sen2_aurangabad_20210224_gcs_30               151 non-null float64\n",
      "NDVI_sen2_aurangabad_20210224_gcs_30              151 non-null float64\n",
      "dtypes: float64(13)\n",
      "memory usage: 16.5 KB\n"
     ]
    }
   ],
   "source": [
    "data.info()\n",
    "# print(data.MP_Sagar_rf_GS)"
   ]
  },
  {
   "cell_type": "code",
   "execution_count": 45,
   "metadata": {
    "collapsed": true
   },
   "outputs": [],
   "source": [
    "X = data.drop(['Yield_kg_h'],axis=1)\n",
    "Y = data.Yield_kg_h"
   ]
  },
  {
   "cell_type": "code",
   "execution_count": 51,
   "metadata": {
    "scrolled": true
   },
   "outputs": [
    {
     "name": "stdout",
     "output_type": "stream",
     "text": [
      "Train score: 0 0.7442356786480518\n",
      "Test score: 0 0.6199354376967916\n",
      "0.6199354376967916\n",
      "Mean Deviation:  10.183178169043016\n",
      "2      16.563701\n",
      "55    -12.168802\n",
      "124    -6.959515\n",
      "148    -4.122807\n",
      "132    -3.790992\n",
      "34    -19.065554\n",
      "32      9.347212\n",
      "47     -7.000576\n",
      "80    -13.568980\n",
      "91     -7.958527\n",
      "101     0.705576\n",
      "13     12.708705\n",
      "20     14.339420\n",
      "7     -11.747341\n",
      "120    -5.922229\n",
      "67     16.960913\n",
      "Name: Yield_kg_h, dtype: float64\n"
     ]
    }
   ],
   "source": [
    "scores=[]\n",
    "scores1=[]\n",
    "for i in range(1):\n",
    "    X_train, X_test, Y_train, Y_test = train_test_split(X, Y, random_state = 82, test_size=0.1)\n",
    "    rf = RandomForestRegressor(n_estimators=10, max_depth=12, min_samples_split=3, random_state=69)\n",
    "    rf.fit(X_train, Y_train)\n",
    "    x_pred = rf.predict(X_train)\n",
    "    y_pred = rf.predict(X_test)\n",
    "    print('Train score:',i, r2_score(Y_train, x_pred))\n",
    "    print('Test score:',i, r2_score(Y_test, y_pred))\n",
    "    scores.append(r2_score(Y_train, x_pred))\n",
    "    scores1.append(r2_score(Y_test, y_pred))\n",
    "devs = ((y_pred-Y_test)/Y_test)*100\n",
    "print(np.max(scores1))\n",
    "print(\"Mean Deviation: \", np.mean(np.abs(devs)))\n",
    "print(devs)"
   ]
  },
  {
   "cell_type": "code",
   "execution_count": 52,
   "metadata": {},
   "outputs": [
    {
     "data": {
      "text/plain": [
       "<matplotlib.collections.PathCollection at 0x2873416a828>"
      ]
     },
     "execution_count": 52,
     "metadata": {},
     "output_type": "execute_result"
    },
    {
     "data": {
      "image/png": "[encoded data removed]",
      "text/plain": [
       "<Figure size 360x360 with 1 Axes>"
      ]
     },
     "metadata": {
      "needs_background": "light"
     },
     "output_type": "display_data"
    }
   ],
   "source": [
    "plt.scatter(Y_test,y_pred)"
   ]
  },
  {
   "cell_type": "code",
   "execution_count": 60,
   "metadata": {
    "scrolled": true
   },
   "outputs": [
    {
     "name": "stdout",
     "output_type": "stream",
     "text": [
      "Train score:  0 0.9999892640049901\n",
      "Test score:  0 0.47427357645482904\n",
      "0.47427357645482904\n",
      "Mean Deviation:  11.345582527936017\n",
      "141    -9.477272\n",
      "91     -4.335932\n",
      "90      1.356974\n",
      "112    -2.727430\n",
      "60      0.825308\n",
      "146    18.222098\n",
      "4     -26.084286\n",
      "132     2.544865\n",
      "144    19.590278\n",
      "34    -11.214405\n",
      "74    -25.054528\n",
      "35     -2.506112\n",
      "126    19.151652\n",
      "142   -24.326143\n",
      "47      0.614528\n",
      "56    -13.497509\n",
      "Name: Yield_kg_h, dtype: float64\n"
     ]
    }
   ],
   "source": [
    "scores=[]\n",
    "scores1=[]\n",
    "for i in np.arange(1):\n",
    "    X_train, X_test, Y_train, Y_test = train_test_split(X, Y, random_state = 71, test_size=0.1)\n",
    "    xg_reg = xgb.XGBRegressor(objective ='reg:squarederror', colsample_bytree = 0.5, learning_rate = 0.96,\n",
    "                    max_depth = 5, alpha = 10, n_estimators = 25)\n",
    "    xg_reg.fit(X_train,Y_train)\n",
    "\n",
    "    x_pred_xgb = xg_reg.predict(X_train)\n",
    "    y_pred_xgb = xg_reg.predict(X_test)\n",
    "    print(\"Train score: \", i,r2_score(x_pred_xgb,Y_train))\n",
    "    print(\"Test score: \",i, r2_score(Y_test, y_pred_xgb))\n",
    "    scores.append(r2_score(x_pred_xgb,Y_train))\n",
    "    scores1.append(r2_score(Y_test, y_pred_xgb))\n",
    "devs_xgb = ((y_pred_xgb-Y_test)/Y_test)*100\n",
    "print(np.max(scores1))\n",
    "print(\"Mean Deviation: \", np.mean(np.abs(devs_xgb)))\n",
    "print(devs_xgb)"
   ]
  },
  {
   "cell_type": "code",
   "execution_count": 61,
   "metadata": {},
   "outputs": [
    {
     "data": {
      "text/plain": [
       "<matplotlib.collections.PathCollection at 0x287341cf5c0>"
      ]
     },
     "execution_count": 61,
     "metadata": {},
     "output_type": "execute_result"
    },
    {
     "data": {
      "image/png": "[encoded data removed]",
      "text/plain": [
       "<Figure size 360x360 with 1 Axes>"
      ]
     },
     "metadata": {
      "needs_background": "light"
     },
     "output_type": "display_data"
    }
   ],
   "source": [
    "plt.scatter(Y_test, y_pred_xgb)"
   ]
  },
  {
   "cell_type": "markdown",
   "metadata": {},
   "source": [
    "### The score didn't improved "
   ]
  },
  {
   "cell_type": "markdown",
   "metadata": {},
   "source": [
    "output = data_total.iloc[X_test.index].copy()\n",
    "\n",
    "output['Predictions'] = y_pred\n",
    "output.reset_index(drop=True, inplace=True)\n",
    "output.to_excel(\"Ganganagar_30M_Predictions.xlsx\")"
   ]
  },
  {
   "cell_type": "markdown",
   "metadata": {},
   "source": [
    "### Final Predictions"
   ]
  },
  {
   "cell_type": "code",
   "execution_count": 16,
   "metadata": {
    "collapsed": true
   },
   "outputs": [],
   "source": [
    "data1 = pd.read_csv('30M_INPUT_FOR_YIELD_MAP/Shajahanpur_CWSI_30_LISS4.csv')"
   ]
  },
  {
   "cell_type": "code",
   "execution_count": 17,
   "metadata": {},
   "outputs": [
    {
     "name": "stdout",
     "output_type": "stream",
     "text": [
      "<class 'pandas.core.frame.DataFrame'>\n",
      "RangeIndex: 3541437 entries, 0 to 3541436\n",
      "Data columns (total 16 columns):\n",
      "pointid                                  int64\n",
      "grid_code                                float64\n",
      "POINT_X                                  float64\n",
      "POINT_Y                                  float64\n",
      "CCCI_Shajanpur_GS                        float64\n",
      "CWSI_Shajanpur_GS                        float64\n",
      "evi_shajhapur_16_march_2021__gcs_30m     float64\n",
      "ndvi_shajhapur_16_march_2021__gcs_30m    float64\n",
      "SM_Shajapur_GS                           float64\n",
      "SM_Shajapur_VS                           float64\n",
      "UP_Shahjahanpur_min_GS                   float64\n",
      "UP_Shahjahanpur_min_VS                   float64\n",
      "UP_Shahjahanpur_rf_GS                    float64\n",
      "UP_Shahjahanpur_rf_VS                    float64\n",
      "UP_Shajahapur_max_GS                     float64\n",
      "UP_Shajahapur_max_VS                     float64\n",
      "dtypes: float64(15), int64(1)\n",
      "memory usage: 432.3 MB\n"
     ]
    }
   ],
   "source": [
    "data1.info()"
   ]
  },
  {
   "cell_type": "code",
   "execution_count": 18,
   "metadata": {
    "collapsed": true
   },
   "outputs": [],
   "source": [
    "data1.dropna(inplace=True)\n",
    "data1.reset_index(drop=True, inplace=True)"
   ]
  },
  {
   "cell_type": "code",
   "execution_count": 19,
   "metadata": {},
   "outputs": [
    {
     "data": {
      "text/plain": [
       "Index(['CWSI_Shajanpur_GS', 'UP_Shahjahanpur_min_GS',\n",
       "       'UP_Shahjahanpur_min_VS'],\n",
       "      dtype='object')"
      ]
     },
     "execution_count": 19,
     "metadata": {},
     "output_type": "execute_result"
    }
   ],
   "source": [
    "X.columns"
   ]
  },
  {
   "cell_type": "code",
   "execution_count": 34,
   "metadata": {
    "collapsed": true
   },
   "outputs": [],
   "source": [
    "data1['Avg_max'] = (data1.Ganjam_max_GS_30 + data1.Ganjam_max_VS_30)/2\n",
    "data1['Avg_min'] = (data1.Ganjam_min_GS_30 + data1.Ganjam_min_VS_30)/2\n",
    "data1['Sum_rf'] = (data1.Ganjam_rf_GS_30 + data1.Ganjam_rf_VS_30)"
   ]
  },
  {
   "cell_type": "code",
   "execution_count": 20,
   "metadata": {
    "collapsed": true
   },
   "outputs": [],
   "source": [
    "data2 = data1[['CWSI_Shajanpur_GS', 'UP_Shahjahanpur_min_GS',\n",
    "       'UP_Shahjahanpur_min_VS']]"
   ]
  },
  {
   "cell_type": "code",
   "execution_count": 21,
   "metadata": {
    "collapsed": true
   },
   "outputs": [],
   "source": [
    "data_pred = rfp.predict(data2)"
   ]
  },
  {
   "cell_type": "code",
   "execution_count": 22,
   "metadata": {
    "collapsed": true
   },
   "outputs": [],
   "source": [
    "data1['Prediction'] = data_pred\n",
    "data1['InQuintal'] = data_pred/100"
   ]
  },
  {
   "cell_type": "code",
   "execution_count": 23,
   "metadata": {
    "collapsed": true
   },
   "outputs": [],
   "source": [
    "data1.reset_index(drop=True, inplace=True)"
   ]
  },
  {
   "cell_type": "code",
   "execution_count": 24,
   "metadata": {
    "collapsed": true
   },
   "outputs": [],
   "source": [
    "data1.to_csv('30M_INPUT_FOR_YIELD_MAP/Shahajhanpur_30m_Prediction_LISS4.csv')"
   ]
  },
  {
   "cell_type": "code",
   "execution_count": 25,
   "metadata": {
    "scrolled": true
   },
   "outputs": [
    {
     "data": {
      "text/html": [
       "<div>\n",
       "<style>\n",
       "    .dataframe thead tr:only-child th {\n",
       "        text-align: right;\n",
       "    }\n",
       "\n",
       "    .dataframe thead th {\n",
       "        text-align: left;\n",
       "    }\n",
       "\n",
       "    .dataframe tbody tr th {\n",
       "        vertical-align: top;\n",
       "    }\n",
       "</style>\n",
       "<table border=\"1\" class=\"dataframe\">\n",
       "  <thead>\n",
       "    <tr style=\"text-align: right;\">\n",
       "      <th></th>\n",
       "      <th>pointid</th>\n",
       "      <th>grid_code</th>\n",
       "      <th>POINT_X</th>\n",
       "      <th>POINT_Y</th>\n",
       "      <th>CCCI_Shajanpur_GS</th>\n",
       "      <th>CWSI_Shajanpur_GS</th>\n",
       "      <th>evi_shajhapur_16_march_2021__gcs_30m</th>\n",
       "      <th>ndvi_shajhapur_16_march_2021__gcs_30m</th>\n",
       "      <th>SM_Shajapur_GS</th>\n",
       "      <th>SM_Shajapur_VS</th>\n",
       "      <th>UP_Shahjahanpur_min_GS</th>\n",
       "      <th>UP_Shahjahanpur_min_VS</th>\n",
       "      <th>UP_Shahjahanpur_rf_GS</th>\n",
       "      <th>UP_Shahjahanpur_rf_VS</th>\n",
       "      <th>UP_Shajahapur_max_GS</th>\n",
       "      <th>UP_Shajahapur_max_VS</th>\n",
       "      <th>Prediction</th>\n",
       "      <th>InQuintal</th>\n",
       "    </tr>\n",
       "  </thead>\n",
       "  <tbody>\n",
       "    <tr>\n",
       "      <th>0</th>\n",
       "      <td>1</td>\n",
       "      <td>0.327213</td>\n",
       "      <td>80.015069</td>\n",
       "      <td>28.37847</td>\n",
       "      <td>0.553863</td>\n",
       "      <td>0.327213</td>\n",
       "      <td>0.262642</td>\n",
       "      <td>0.307420</td>\n",
       "      <td>0.359080</td>\n",
       "      <td>0.339178</td>\n",
       "      <td>15.080343</td>\n",
       "      <td>8.670574</td>\n",
       "      <td>2.595776</td>\n",
       "      <td>6.720245</td>\n",
       "      <td>30.585459</td>\n",
       "      <td>21.676371</td>\n",
       "      <td>2819.395189</td>\n",
       "      <td>28.193952</td>\n",
       "    </tr>\n",
       "    <tr>\n",
       "      <th>1</th>\n",
       "      <td>2</td>\n",
       "      <td>0.319857</td>\n",
       "      <td>80.015371</td>\n",
       "      <td>28.37847</td>\n",
       "      <td>0.546545</td>\n",
       "      <td>0.319857</td>\n",
       "      <td>0.292537</td>\n",
       "      <td>0.335616</td>\n",
       "      <td>0.356562</td>\n",
       "      <td>0.327909</td>\n",
       "      <td>15.080343</td>\n",
       "      <td>8.670574</td>\n",
       "      <td>2.595776</td>\n",
       "      <td>6.720245</td>\n",
       "      <td>30.585459</td>\n",
       "      <td>21.676371</td>\n",
       "      <td>2679.965099</td>\n",
       "      <td>26.799651</td>\n",
       "    </tr>\n",
       "    <tr>\n",
       "      <th>2</th>\n",
       "      <td>3</td>\n",
       "      <td>0.326559</td>\n",
       "      <td>80.015069</td>\n",
       "      <td>28.37820</td>\n",
       "      <td>0.585951</td>\n",
       "      <td>0.326559</td>\n",
       "      <td>0.247453</td>\n",
       "      <td>0.283276</td>\n",
       "      <td>0.351739</td>\n",
       "      <td>0.356689</td>\n",
       "      <td>15.080343</td>\n",
       "      <td>8.670574</td>\n",
       "      <td>2.595776</td>\n",
       "      <td>6.720245</td>\n",
       "      <td>30.585459</td>\n",
       "      <td>21.676371</td>\n",
       "      <td>2819.395189</td>\n",
       "      <td>28.193952</td>\n",
       "    </tr>\n",
       "    <tr>\n",
       "      <th>3</th>\n",
       "      <td>4</td>\n",
       "      <td>0.317554</td>\n",
       "      <td>80.015371</td>\n",
       "      <td>28.37820</td>\n",
       "      <td>0.545968</td>\n",
       "      <td>0.317554</td>\n",
       "      <td>0.277387</td>\n",
       "      <td>0.323944</td>\n",
       "      <td>0.345682</td>\n",
       "      <td>0.340896</td>\n",
       "      <td>15.080343</td>\n",
       "      <td>8.670574</td>\n",
       "      <td>2.595776</td>\n",
       "      <td>6.720245</td>\n",
       "      <td>30.585459</td>\n",
       "      <td>21.676371</td>\n",
       "      <td>2489.433324</td>\n",
       "      <td>24.894333</td>\n",
       "    </tr>\n",
       "    <tr>\n",
       "      <th>4</th>\n",
       "      <td>5</td>\n",
       "      <td>0.292393</td>\n",
       "      <td>80.015674</td>\n",
       "      <td>28.37820</td>\n",
       "      <td>0.516919</td>\n",
       "      <td>0.292393</td>\n",
       "      <td>0.280755</td>\n",
       "      <td>0.328622</td>\n",
       "      <td>0.341743</td>\n",
       "      <td>0.324007</td>\n",
       "      <td>15.080343</td>\n",
       "      <td>8.670574</td>\n",
       "      <td>2.595776</td>\n",
       "      <td>6.720245</td>\n",
       "      <td>30.585459</td>\n",
       "      <td>21.676371</td>\n",
       "      <td>2499.924603</td>\n",
       "      <td>24.999246</td>\n",
       "    </tr>\n",
       "  </tbody>\n",
       "</table>\n",
       "</div>"
      ],
      "text/plain": [
       "   pointid  grid_code    POINT_X   POINT_Y  CCCI_Shajanpur_GS  \\\n",
       "0        1   0.327213  80.015069  28.37847           0.553863   \n",
       "1        2   0.319857  80.015371  28.37847           0.546545   \n",
       "2        3   0.326559  80.015069  28.37820           0.585951   \n",
       "3        4   0.317554  80.015371  28.37820           0.545968   \n",
       "4        5   0.292393  80.015674  28.37820           0.516919   \n",
       "\n",
       "   CWSI_Shajanpur_GS  evi_shajhapur_16_march_2021__gcs_30m  \\\n",
       "0           0.327213                              0.262642   \n",
       "1           0.319857                              0.292537   \n",
       "2           0.326559                              0.247453   \n",
       "3           0.317554                              0.277387   \n",
       "4           0.292393                              0.280755   \n",
       "\n",
       "   ndvi_shajhapur_16_march_2021__gcs_30m  SM_Shajapur_GS  SM_Shajapur_VS  \\\n",
       "0                               0.307420        0.359080        0.339178   \n",
       "1                               0.335616        0.356562        0.327909   \n",
       "2                               0.283276        0.351739        0.356689   \n",
       "3                               0.323944        0.345682        0.340896   \n",
       "4                               0.328622        0.341743        0.324007   \n",
       "\n",
       "   UP_Shahjahanpur_min_GS  UP_Shahjahanpur_min_VS  UP_Shahjahanpur_rf_GS  \\\n",
       "0               15.080343                8.670574               2.595776   \n",
       "1               15.080343                8.670574               2.595776   \n",
       "2               15.080343                8.670574               2.595776   \n",
       "3               15.080343                8.670574               2.595776   \n",
       "4               15.080343                8.670574               2.595776   \n",
       "\n",
       "   UP_Shahjahanpur_rf_VS  UP_Shajahapur_max_GS  UP_Shajahapur_max_VS  \\\n",
       "0               6.720245             30.585459             21.676371   \n",
       "1               6.720245             30.585459             21.676371   \n",
       "2               6.720245             30.585459             21.676371   \n",
       "3               6.720245             30.585459             21.676371   \n",
       "4               6.720245             30.585459             21.676371   \n",
       "\n",
       "    Prediction  InQuintal  \n",
       "0  2819.395189  28.193952  \n",
       "1  2679.965099  26.799651  \n",
       "2  2819.395189  28.193952  \n",
       "3  2489.433324  24.894333  \n",
       "4  2499.924603  24.999246  "
      ]
     },
     "execution_count": 25,
     "metadata": {},
     "output_type": "execute_result"
    }
   ],
   "source": [
    "data1.head()"
   ]
  },
  {
   "cell_type": "code",
   "execution_count": 26,
   "metadata": {},
   "outputs": [
    {
     "data": {
      "text/plain": [
       "2423.318778077273"
      ]
     },
     "execution_count": 26,
     "metadata": {},
     "output_type": "execute_result"
    }
   ],
   "source": [
    "np.mean(data1.Prediction)"
   ]
  },
  {
   "cell_type": "code",
   "execution_count": 28,
   "metadata": {},
   "outputs": [
    {
     "data": {
      "text/plain": [
       "2337.3191697469133"
      ]
     },
     "execution_count": 28,
     "metadata": {},
     "output_type": "execute_result"
    }
   ],
   "source": [
    "np.mean(data.Yield_kg_h)"
   ]
  },
  {
   "cell_type": "code",
   "execution_count": null,
   "metadata": {
    "collapsed": true
   },
   "outputs": [],
   "source": []
  }
 ],
 "metadata": {
  "kernelspec": {
   "display_name": "Python 3",
   "language": "python",
   "name": "python3"
  },
  "language_info": {
   "codemirror_mode": {
    "name": "ipython",
    "version": 3
   },
   "file_extension": ".py",
   "mimetype": "text/x-python",
   "name": "python",
   "nbconvert_exporter": "python",
   "pygments_lexer": "ipython3",
   "version": "3.6.1"
  }
 },
 "nbformat": 4,
 "nbformat_minor": 2
}
