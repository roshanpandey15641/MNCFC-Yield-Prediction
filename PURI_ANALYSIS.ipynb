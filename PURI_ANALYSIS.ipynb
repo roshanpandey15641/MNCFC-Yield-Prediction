{
 "cells": [
  {
   "cell_type": "code",
   "execution_count": 1,
   "metadata": {},
   "outputs": [],
   "source": [
    "import numpy as np\n",
    "import pandas as pd\n",
    "import matplotlib.pyplot as plt\n",
    "import seaborn as sns"
   ]
  },
  {
   "cell_type": "code",
   "execution_count": 2,
   "metadata": {},
   "outputs": [],
   "source": [
    "%matplotlib inline\n",
    "plt.rcParams['font.size']=14\n",
    "plt.rcParams['axes.titlepad']= 8\n",
    "plt.rcParams['axes.titlesize']= 'medium'\n",
    "plt.rcParams['axes.grid']=True\n",
    "plt.rcParams['figure.figsize'] = (5,5)\n",
    "plt.rcParams['axes.facecolor'] = 'white'"
   ]
  },
  {
   "cell_type": "code",
   "execution_count": 3,
   "metadata": {},
   "outputs": [],
   "source": [
    "data_total = pd.read_csv('Puri_CCE_Extract_Two_Stage_250m.csv')\n",
    "data = data_total.copy()"
   ]
  },
  {
   "cell_type": "code",
   "execution_count": 4,
   "metadata": {
    "scrolled": true
   },
   "outputs": [
    {
     "name": "stdout",
     "output_type": "stream",
     "text": [
      "<class 'pandas.core.frame.DataFrame'>\n",
      "RangeIndex: 161 entries, 0 to 160\n",
      "Data columns (total 30 columns):\n",
      "S_No_                        161 non-null int64\n",
      "Long                         161 non-null float64\n",
      "Lat                          161 non-null float64\n",
      "USIN                         161 non-null int64\n",
      "State                        161 non-null object\n",
      "District                     161 non-null object\n",
      "Block_Mand                   161 non-null object\n",
      "Village                      161 non-null object\n",
      "CCE_Date                     161 non-null object\n",
      "Geo_Coordi                   161 non-null object\n",
      "Target_Cro                   161 non-null object\n",
      "CCE_Plot_S                   161 non-null object\n",
      "QC_Status                    161 non-null object\n",
      "Wet_Weight                   161 non-null float64\n",
      "Dry_Weight                   161 non-null float64\n",
      "Yield_kg_h                   161 non-null int64\n",
      "CCCI_Puri_250                161 non-null float64\n",
      "CWSI_Puri_250                161 non-null float64\n",
      "EVI_241_OR_Puri              161 non-null float64\n",
      "EVI_273_OR_Puri              161 non-null float64\n",
      "NDVI_241_OR_Puri             161 non-null float64\n",
      "NDVI_273_OR_Puri             161 non-null float64\n",
      "puri_07_12_sept_sm_250m      161 non-null float64\n",
      "Puri_7_11_october_sm_250m    161 non-null float64\n",
      "Puri_max_GS_250              161 non-null float64\n",
      "Puri_max_VS_250              161 non-null float64\n",
      "Puri_min_GS_250              161 non-null float64\n",
      "Puri_min_VS_250              161 non-null float64\n",
      "Puri_rf_GS_250               161 non-null float64\n",
      "Puri_rf_VS_250               161 non-null float64\n",
      "dtypes: float64(18), int64(3), object(9)\n",
      "memory usage: 37.8+ KB\n"
     ]
    }
   ],
   "source": [
    "data.info()"
   ]
  },
  {
   "cell_type": "code",
   "execution_count": 5,
   "metadata": {},
   "outputs": [],
   "source": [
    "corr = data.corr()"
   ]
  },
  {
   "cell_type": "code",
   "execution_count": 6,
   "metadata": {},
   "outputs": [],
   "source": [
    "corr.to_excel(\"Puri_Corr.xlsx\")"
   ]
  },
  {
   "cell_type": "code",
   "execution_count": 7,
   "metadata": {
    "scrolled": true
   },
   "outputs": [
    {
     "data": {
      "text/html": [
       "<div>\n",
       "<style scoped>\n",
       "    .dataframe tbody tr th:only-of-type {\n",
       "        vertical-align: middle;\n",
       "    }\n",
       "\n",
       "    .dataframe tbody tr th {\n",
       "        vertical-align: top;\n",
       "    }\n",
       "\n",
       "    .dataframe thead th {\n",
       "        text-align: right;\n",
       "    }\n",
       "</style>\n",
       "<table border=\"1\" class=\"dataframe\">\n",
       "  <thead>\n",
       "    <tr style=\"text-align: right;\">\n",
       "      <th></th>\n",
       "      <th>S_No_</th>\n",
       "      <th>Long</th>\n",
       "      <th>Lat</th>\n",
       "      <th>USIN</th>\n",
       "      <th>Wet_Weight</th>\n",
       "      <th>Dry_Weight</th>\n",
       "      <th>Yield_kg_h</th>\n",
       "      <th>CCCI_Puri_250</th>\n",
       "      <th>CWSI_Puri_250</th>\n",
       "      <th>EVI_241_OR_Puri</th>\n",
       "      <th>...</th>\n",
       "      <th>NDVI_241_OR_Puri</th>\n",
       "      <th>NDVI_273_OR_Puri</th>\n",
       "      <th>puri_07_12_sept_sm_250m</th>\n",
       "      <th>Puri_7_11_october_sm_250m</th>\n",
       "      <th>Puri_max_GS_250</th>\n",
       "      <th>Puri_max_VS_250</th>\n",
       "      <th>Puri_min_GS_250</th>\n",
       "      <th>Puri_min_VS_250</th>\n",
       "      <th>Puri_rf_GS_250</th>\n",
       "      <th>Puri_rf_VS_250</th>\n",
       "    </tr>\n",
       "  </thead>\n",
       "  <tbody>\n",
       "    <tr>\n",
       "      <th>S_No_</th>\n",
       "      <td>1.000000</td>\n",
       "      <td>-0.644129</td>\n",
       "      <td>0.029206</td>\n",
       "      <td>-0.999381</td>\n",
       "      <td>-0.005032</td>\n",
       "      <td>-0.005032</td>\n",
       "      <td>-0.004976</td>\n",
       "      <td>0.352603</td>\n",
       "      <td>0.445606</td>\n",
       "      <td>-0.152660</td>\n",
       "      <td>...</td>\n",
       "      <td>-0.047113</td>\n",
       "      <td>0.320103</td>\n",
       "      <td>0.074044</td>\n",
       "      <td>0.140117</td>\n",
       "      <td>-0.474683</td>\n",
       "      <td>0.600554</td>\n",
       "      <td>-0.577051</td>\n",
       "      <td>-0.575528</td>\n",
       "      <td>-0.072877</td>\n",
       "      <td>-0.578286</td>\n",
       "    </tr>\n",
       "    <tr>\n",
       "      <th>Long</th>\n",
       "      <td>-0.644129</td>\n",
       "      <td>1.000000</td>\n",
       "      <td>-0.138268</td>\n",
       "      <td>0.640959</td>\n",
       "      <td>0.191816</td>\n",
       "      <td>0.191816</td>\n",
       "      <td>0.191791</td>\n",
       "      <td>-0.487011</td>\n",
       "      <td>-0.532670</td>\n",
       "      <td>0.376859</td>\n",
       "      <td>...</td>\n",
       "      <td>0.264316</td>\n",
       "      <td>-0.525052</td>\n",
       "      <td>0.038512</td>\n",
       "      <td>-0.082764</td>\n",
       "      <td>0.738492</td>\n",
       "      <td>-0.849142</td>\n",
       "      <td>0.873696</td>\n",
       "      <td>0.859320</td>\n",
       "      <td>0.166060</td>\n",
       "      <td>0.802077</td>\n",
       "    </tr>\n",
       "    <tr>\n",
       "      <th>Lat</th>\n",
       "      <td>0.029206</td>\n",
       "      <td>-0.138268</td>\n",
       "      <td>1.000000</td>\n",
       "      <td>-0.024677</td>\n",
       "      <td>0.368293</td>\n",
       "      <td>0.368293</td>\n",
       "      <td>0.368365</td>\n",
       "      <td>-0.030706</td>\n",
       "      <td>0.392250</td>\n",
       "      <td>-0.034456</td>\n",
       "      <td>...</td>\n",
       "      <td>-0.029749</td>\n",
       "      <td>0.028658</td>\n",
       "      <td>0.249915</td>\n",
       "      <td>0.235090</td>\n",
       "      <td>-0.732300</td>\n",
       "      <td>0.523131</td>\n",
       "      <td>-0.559437</td>\n",
       "      <td>-0.569989</td>\n",
       "      <td>-0.928880</td>\n",
       "      <td>-0.497500</td>\n",
       "    </tr>\n",
       "    <tr>\n",
       "      <th>USIN</th>\n",
       "      <td>-0.999381</td>\n",
       "      <td>0.640959</td>\n",
       "      <td>-0.024677</td>\n",
       "      <td>1.000000</td>\n",
       "      <td>0.004258</td>\n",
       "      <td>0.004258</td>\n",
       "      <td>0.004199</td>\n",
       "      <td>-0.348658</td>\n",
       "      <td>-0.438520</td>\n",
       "      <td>0.154511</td>\n",
       "      <td>...</td>\n",
       "      <td>0.049700</td>\n",
       "      <td>-0.321512</td>\n",
       "      <td>-0.074410</td>\n",
       "      <td>-0.141736</td>\n",
       "      <td>0.470236</td>\n",
       "      <td>-0.594736</td>\n",
       "      <td>0.572537</td>\n",
       "      <td>0.570894</td>\n",
       "      <td>0.066007</td>\n",
       "      <td>0.571134</td>\n",
       "    </tr>\n",
       "    <tr>\n",
       "      <th>Wet_Weight</th>\n",
       "      <td>-0.005032</td>\n",
       "      <td>0.191816</td>\n",
       "      <td>0.368293</td>\n",
       "      <td>0.004258</td>\n",
       "      <td>1.000000</td>\n",
       "      <td>1.000000</td>\n",
       "      <td>1.000000</td>\n",
       "      <td>-0.098155</td>\n",
       "      <td>0.157960</td>\n",
       "      <td>0.146592</td>\n",
       "      <td>...</td>\n",
       "      <td>0.072473</td>\n",
       "      <td>-0.053312</td>\n",
       "      <td>0.065694</td>\n",
       "      <td>0.082606</td>\n",
       "      <td>-0.140157</td>\n",
       "      <td>0.039457</td>\n",
       "      <td>-0.036173</td>\n",
       "      <td>-0.048823</td>\n",
       "      <td>-0.271449</td>\n",
       "      <td>0.013234</td>\n",
       "    </tr>\n",
       "    <tr>\n",
       "      <th>Dry_Weight</th>\n",
       "      <td>-0.005032</td>\n",
       "      <td>0.191816</td>\n",
       "      <td>0.368293</td>\n",
       "      <td>0.004258</td>\n",
       "      <td>1.000000</td>\n",
       "      <td>1.000000</td>\n",
       "      <td>1.000000</td>\n",
       "      <td>-0.098155</td>\n",
       "      <td>0.157960</td>\n",
       "      <td>0.146592</td>\n",
       "      <td>...</td>\n",
       "      <td>0.072473</td>\n",
       "      <td>-0.053312</td>\n",
       "      <td>0.065694</td>\n",
       "      <td>0.082606</td>\n",
       "      <td>-0.140157</td>\n",
       "      <td>0.039457</td>\n",
       "      <td>-0.036173</td>\n",
       "      <td>-0.048823</td>\n",
       "      <td>-0.271449</td>\n",
       "      <td>0.013234</td>\n",
       "    </tr>\n",
       "    <tr>\n",
       "      <th>Yield_kg_h</th>\n",
       "      <td>-0.004976</td>\n",
       "      <td>0.191791</td>\n",
       "      <td>0.368365</td>\n",
       "      <td>0.004199</td>\n",
       "      <td>1.000000</td>\n",
       "      <td>1.000000</td>\n",
       "      <td>1.000000</td>\n",
       "      <td>-0.098128</td>\n",
       "      <td>0.157967</td>\n",
       "      <td>0.146554</td>\n",
       "      <td>...</td>\n",
       "      <td>0.072426</td>\n",
       "      <td>-0.053241</td>\n",
       "      <td>0.065709</td>\n",
       "      <td>0.082657</td>\n",
       "      <td>-0.140227</td>\n",
       "      <td>0.039498</td>\n",
       "      <td>-0.036230</td>\n",
       "      <td>-0.048879</td>\n",
       "      <td>-0.271511</td>\n",
       "      <td>0.013207</td>\n",
       "    </tr>\n",
       "    <tr>\n",
       "      <th>CCCI_Puri_250</th>\n",
       "      <td>0.352603</td>\n",
       "      <td>-0.487011</td>\n",
       "      <td>-0.030706</td>\n",
       "      <td>-0.348658</td>\n",
       "      <td>-0.098155</td>\n",
       "      <td>-0.098155</td>\n",
       "      <td>-0.098128</td>\n",
       "      <td>1.000000</td>\n",
       "      <td>0.172090</td>\n",
       "      <td>-0.327092</td>\n",
       "      <td>...</td>\n",
       "      <td>-0.271338</td>\n",
       "      <td>0.247325</td>\n",
       "      <td>-0.069707</td>\n",
       "      <td>0.044105</td>\n",
       "      <td>-0.251671</td>\n",
       "      <td>0.381057</td>\n",
       "      <td>-0.350944</td>\n",
       "      <td>-0.341223</td>\n",
       "      <td>-0.009401</td>\n",
       "      <td>-0.388692</td>\n",
       "    </tr>\n",
       "    <tr>\n",
       "      <th>CWSI_Puri_250</th>\n",
       "      <td>0.445606</td>\n",
       "      <td>-0.532670</td>\n",
       "      <td>0.392250</td>\n",
       "      <td>-0.438520</td>\n",
       "      <td>0.157960</td>\n",
       "      <td>0.157960</td>\n",
       "      <td>0.157967</td>\n",
       "      <td>0.172090</td>\n",
       "      <td>1.000000</td>\n",
       "      <td>0.173188</td>\n",
       "      <td>...</td>\n",
       "      <td>0.219015</td>\n",
       "      <td>0.185778</td>\n",
       "      <td>0.193338</td>\n",
       "      <td>0.308266</td>\n",
       "      <td>-0.655399</td>\n",
       "      <td>0.660194</td>\n",
       "      <td>-0.663541</td>\n",
       "      <td>-0.669487</td>\n",
       "      <td>-0.404549</td>\n",
       "      <td>-0.617477</td>\n",
       "    </tr>\n",
       "    <tr>\n",
       "      <th>EVI_241_OR_Puri</th>\n",
       "      <td>-0.152660</td>\n",
       "      <td>0.376859</td>\n",
       "      <td>-0.034456</td>\n",
       "      <td>0.154511</td>\n",
       "      <td>0.146592</td>\n",
       "      <td>0.146592</td>\n",
       "      <td>0.146554</td>\n",
       "      <td>-0.327092</td>\n",
       "      <td>0.173188</td>\n",
       "      <td>1.000000</td>\n",
       "      <td>...</td>\n",
       "      <td>0.920029</td>\n",
       "      <td>-0.246754</td>\n",
       "      <td>0.250438</td>\n",
       "      <td>0.208461</td>\n",
       "      <td>0.186760</td>\n",
       "      <td>-0.221138</td>\n",
       "      <td>0.244944</td>\n",
       "      <td>0.227083</td>\n",
       "      <td>-0.014434</td>\n",
       "      <td>0.194982</td>\n",
       "    </tr>\n",
       "    <tr>\n",
       "      <th>EVI_273_OR_Puri</th>\n",
       "      <td>0.272100</td>\n",
       "      <td>-0.468002</td>\n",
       "      <td>0.071051</td>\n",
       "      <td>-0.271672</td>\n",
       "      <td>-0.021694</td>\n",
       "      <td>-0.021694</td>\n",
       "      <td>-0.021628</td>\n",
       "      <td>0.222153</td>\n",
       "      <td>0.136374</td>\n",
       "      <td>-0.222225</td>\n",
       "      <td>...</td>\n",
       "      <td>-0.161359</td>\n",
       "      <td>0.931118</td>\n",
       "      <td>0.030213</td>\n",
       "      <td>0.055320</td>\n",
       "      <td>-0.356778</td>\n",
       "      <td>0.419593</td>\n",
       "      <td>-0.420741</td>\n",
       "      <td>-0.416431</td>\n",
       "      <td>-0.037805</td>\n",
       "      <td>-0.368303</td>\n",
       "    </tr>\n",
       "    <tr>\n",
       "      <th>NDVI_241_OR_Puri</th>\n",
       "      <td>-0.047113</td>\n",
       "      <td>0.264316</td>\n",
       "      <td>-0.029749</td>\n",
       "      <td>0.049700</td>\n",
       "      <td>0.072473</td>\n",
       "      <td>0.072473</td>\n",
       "      <td>0.072426</td>\n",
       "      <td>-0.271338</td>\n",
       "      <td>0.219015</td>\n",
       "      <td>0.920029</td>\n",
       "      <td>...</td>\n",
       "      <td>1.000000</td>\n",
       "      <td>-0.168262</td>\n",
       "      <td>0.327415</td>\n",
       "      <td>0.255665</td>\n",
       "      <td>0.091722</td>\n",
       "      <td>-0.102481</td>\n",
       "      <td>0.132690</td>\n",
       "      <td>0.113211</td>\n",
       "      <td>-0.049740</td>\n",
       "      <td>0.066422</td>\n",
       "    </tr>\n",
       "    <tr>\n",
       "      <th>NDVI_273_OR_Puri</th>\n",
       "      <td>0.320103</td>\n",
       "      <td>-0.525052</td>\n",
       "      <td>0.028658</td>\n",
       "      <td>-0.321512</td>\n",
       "      <td>-0.053312</td>\n",
       "      <td>-0.053312</td>\n",
       "      <td>-0.053241</td>\n",
       "      <td>0.247325</td>\n",
       "      <td>0.185778</td>\n",
       "      <td>-0.246754</td>\n",
       "      <td>...</td>\n",
       "      <td>-0.168262</td>\n",
       "      <td>1.000000</td>\n",
       "      <td>0.015270</td>\n",
       "      <td>0.053770</td>\n",
       "      <td>-0.388268</td>\n",
       "      <td>0.464758</td>\n",
       "      <td>-0.466935</td>\n",
       "      <td>-0.463512</td>\n",
       "      <td>-0.018058</td>\n",
       "      <td>-0.411732</td>\n",
       "    </tr>\n",
       "    <tr>\n",
       "      <th>puri_07_12_sept_sm_250m</th>\n",
       "      <td>0.074044</td>\n",
       "      <td>0.038512</td>\n",
       "      <td>0.249915</td>\n",
       "      <td>-0.074410</td>\n",
       "      <td>0.065694</td>\n",
       "      <td>0.065694</td>\n",
       "      <td>0.065709</td>\n",
       "      <td>-0.069707</td>\n",
       "      <td>0.193338</td>\n",
       "      <td>0.250438</td>\n",
       "      <td>...</td>\n",
       "      <td>0.327415</td>\n",
       "      <td>0.015270</td>\n",
       "      <td>1.000000</td>\n",
       "      <td>0.706285</td>\n",
       "      <td>-0.169970</td>\n",
       "      <td>0.145429</td>\n",
       "      <td>-0.118830</td>\n",
       "      <td>-0.130776</td>\n",
       "      <td>-0.266076</td>\n",
       "      <td>-0.161647</td>\n",
       "    </tr>\n",
       "    <tr>\n",
       "      <th>Puri_7_11_october_sm_250m</th>\n",
       "      <td>0.140117</td>\n",
       "      <td>-0.082764</td>\n",
       "      <td>0.235090</td>\n",
       "      <td>-0.141736</td>\n",
       "      <td>0.082606</td>\n",
       "      <td>0.082606</td>\n",
       "      <td>0.082657</td>\n",
       "      <td>0.044105</td>\n",
       "      <td>0.308266</td>\n",
       "      <td>0.208461</td>\n",
       "      <td>...</td>\n",
       "      <td>0.255665</td>\n",
       "      <td>0.053770</td>\n",
       "      <td>0.706285</td>\n",
       "      <td>1.000000</td>\n",
       "      <td>-0.234965</td>\n",
       "      <td>0.224883</td>\n",
       "      <td>-0.206226</td>\n",
       "      <td>-0.214968</td>\n",
       "      <td>-0.257959</td>\n",
       "      <td>-0.235112</td>\n",
       "    </tr>\n",
       "    <tr>\n",
       "      <th>Puri_max_GS_250</th>\n",
       "      <td>-0.474683</td>\n",
       "      <td>0.738492</td>\n",
       "      <td>-0.732300</td>\n",
       "      <td>0.470236</td>\n",
       "      <td>-0.140157</td>\n",
       "      <td>-0.140157</td>\n",
       "      <td>-0.140227</td>\n",
       "      <td>-0.251671</td>\n",
       "      <td>-0.655399</td>\n",
       "      <td>0.186760</td>\n",
       "      <td>...</td>\n",
       "      <td>0.091722</td>\n",
       "      <td>-0.388268</td>\n",
       "      <td>-0.169970</td>\n",
       "      <td>-0.234965</td>\n",
       "      <td>1.000000</td>\n",
       "      <td>-0.925135</td>\n",
       "      <td>0.970339</td>\n",
       "      <td>0.973275</td>\n",
       "      <td>0.719513</td>\n",
       "      <td>0.872792</td>\n",
       "    </tr>\n",
       "    <tr>\n",
       "      <th>Puri_max_VS_250</th>\n",
       "      <td>0.600554</td>\n",
       "      <td>-0.849142</td>\n",
       "      <td>0.523131</td>\n",
       "      <td>-0.594736</td>\n",
       "      <td>0.039457</td>\n",
       "      <td>0.039457</td>\n",
       "      <td>0.039498</td>\n",
       "      <td>0.381057</td>\n",
       "      <td>0.660194</td>\n",
       "      <td>-0.221138</td>\n",
       "      <td>...</td>\n",
       "      <td>-0.102481</td>\n",
       "      <td>0.464758</td>\n",
       "      <td>0.145429</td>\n",
       "      <td>0.224883</td>\n",
       "      <td>-0.925135</td>\n",
       "      <td>1.000000</td>\n",
       "      <td>-0.970743</td>\n",
       "      <td>-0.975327</td>\n",
       "      <td>-0.555770</td>\n",
       "      <td>-0.968782</td>\n",
       "    </tr>\n",
       "    <tr>\n",
       "      <th>Puri_min_GS_250</th>\n",
       "      <td>-0.577051</td>\n",
       "      <td>0.873696</td>\n",
       "      <td>-0.559437</td>\n",
       "      <td>0.572537</td>\n",
       "      <td>-0.036173</td>\n",
       "      <td>-0.036173</td>\n",
       "      <td>-0.036230</td>\n",
       "      <td>-0.350944</td>\n",
       "      <td>-0.663541</td>\n",
       "      <td>0.244944</td>\n",
       "      <td>...</td>\n",
       "      <td>0.132690</td>\n",
       "      <td>-0.466935</td>\n",
       "      <td>-0.118830</td>\n",
       "      <td>-0.206226</td>\n",
       "      <td>0.970339</td>\n",
       "      <td>-0.970743</td>\n",
       "      <td>1.000000</td>\n",
       "      <td>0.999172</td>\n",
       "      <td>0.569575</td>\n",
       "      <td>0.920646</td>\n",
       "    </tr>\n",
       "    <tr>\n",
       "      <th>Puri_min_VS_250</th>\n",
       "      <td>-0.575528</td>\n",
       "      <td>0.859320</td>\n",
       "      <td>-0.569989</td>\n",
       "      <td>0.570894</td>\n",
       "      <td>-0.048823</td>\n",
       "      <td>-0.048823</td>\n",
       "      <td>-0.048879</td>\n",
       "      <td>-0.341223</td>\n",
       "      <td>-0.669487</td>\n",
       "      <td>0.227083</td>\n",
       "      <td>...</td>\n",
       "      <td>0.113211</td>\n",
       "      <td>-0.463512</td>\n",
       "      <td>-0.130776</td>\n",
       "      <td>-0.214968</td>\n",
       "      <td>0.973275</td>\n",
       "      <td>-0.975327</td>\n",
       "      <td>0.999172</td>\n",
       "      <td>1.000000</td>\n",
       "      <td>0.582776</td>\n",
       "      <td>0.926883</td>\n",
       "    </tr>\n",
       "    <tr>\n",
       "      <th>Puri_rf_GS_250</th>\n",
       "      <td>-0.072877</td>\n",
       "      <td>0.166060</td>\n",
       "      <td>-0.928880</td>\n",
       "      <td>0.066007</td>\n",
       "      <td>-0.271449</td>\n",
       "      <td>-0.271449</td>\n",
       "      <td>-0.271511</td>\n",
       "      <td>-0.009401</td>\n",
       "      <td>-0.404549</td>\n",
       "      <td>-0.014434</td>\n",
       "      <td>...</td>\n",
       "      <td>-0.049740</td>\n",
       "      <td>-0.018058</td>\n",
       "      <td>-0.266076</td>\n",
       "      <td>-0.257959</td>\n",
       "      <td>0.719513</td>\n",
       "      <td>-0.555770</td>\n",
       "      <td>0.569575</td>\n",
       "      <td>0.582776</td>\n",
       "      <td>1.000000</td>\n",
       "      <td>0.611146</td>\n",
       "    </tr>\n",
       "    <tr>\n",
       "      <th>Puri_rf_VS_250</th>\n",
       "      <td>-0.578286</td>\n",
       "      <td>0.802077</td>\n",
       "      <td>-0.497500</td>\n",
       "      <td>0.571134</td>\n",
       "      <td>0.013234</td>\n",
       "      <td>0.013234</td>\n",
       "      <td>0.013207</td>\n",
       "      <td>-0.388692</td>\n",
       "      <td>-0.617477</td>\n",
       "      <td>0.194982</td>\n",
       "      <td>...</td>\n",
       "      <td>0.066422</td>\n",
       "      <td>-0.411732</td>\n",
       "      <td>-0.161647</td>\n",
       "      <td>-0.235112</td>\n",
       "      <td>0.872792</td>\n",
       "      <td>-0.968782</td>\n",
       "      <td>0.920646</td>\n",
       "      <td>0.926883</td>\n",
       "      <td>0.611146</td>\n",
       "      <td>1.000000</td>\n",
       "    </tr>\n",
       "  </tbody>\n",
       "</table>\n",
       "<p>21 rows × 21 columns</p>\n",
       "</div>"
      ],
      "text/plain": [
       "                              S_No_      Long       Lat      USIN  Wet_Weight  \\\n",
       "S_No_                      1.000000 -0.644129  0.029206 -0.999381   -0.005032   \n",
       "Long                      -0.644129  1.000000 -0.138268  0.640959    0.191816   \n",
       "Lat                        0.029206 -0.138268  1.000000 -0.024677    0.368293   \n",
       "USIN                      -0.999381  0.640959 -0.024677  1.000000    0.004258   \n",
       "Wet_Weight                -0.005032  0.191816  0.368293  0.004258    1.000000   \n",
       "Dry_Weight                -0.005032  0.191816  0.368293  0.004258    1.000000   \n",
       "Yield_kg_h                -0.004976  0.191791  0.368365  0.004199    1.000000   \n",
       "CCCI_Puri_250              0.352603 -0.487011 -0.030706 -0.348658   -0.098155   \n",
       "CWSI_Puri_250              0.445606 -0.532670  0.392250 -0.438520    0.157960   \n",
       "EVI_241_OR_Puri           -0.152660  0.376859 -0.034456  0.154511    0.146592   \n",
       "EVI_273_OR_Puri            0.272100 -0.468002  0.071051 -0.271672   -0.021694   \n",
       "NDVI_241_OR_Puri          -0.047113  0.264316 -0.029749  0.049700    0.072473   \n",
       "NDVI_273_OR_Puri           0.320103 -0.525052  0.028658 -0.321512   -0.053312   \n",
       "puri_07_12_sept_sm_250m    0.074044  0.038512  0.249915 -0.074410    0.065694   \n",
       "Puri_7_11_october_sm_250m  0.140117 -0.082764  0.235090 -0.141736    0.082606   \n",
       "Puri_max_GS_250           -0.474683  0.738492 -0.732300  0.470236   -0.140157   \n",
       "Puri_max_VS_250            0.600554 -0.849142  0.523131 -0.594736    0.039457   \n",
       "Puri_min_GS_250           -0.577051  0.873696 -0.559437  0.572537   -0.036173   \n",
       "Puri_min_VS_250           -0.575528  0.859320 -0.569989  0.570894   -0.048823   \n",
       "Puri_rf_GS_250            -0.072877  0.166060 -0.928880  0.066007   -0.271449   \n",
       "Puri_rf_VS_250            -0.578286  0.802077 -0.497500  0.571134    0.013234   \n",
       "\n",
       "                           Dry_Weight  Yield_kg_h  CCCI_Puri_250  \\\n",
       "S_No_                       -0.005032   -0.004976       0.352603   \n",
       "Long                         0.191816    0.191791      -0.487011   \n",
       "Lat                          0.368293    0.368365      -0.030706   \n",
       "USIN                         0.004258    0.004199      -0.348658   \n",
       "Wet_Weight                   1.000000    1.000000      -0.098155   \n",
       "Dry_Weight                   1.000000    1.000000      -0.098155   \n",
       "Yield_kg_h                   1.000000    1.000000      -0.098128   \n",
       "CCCI_Puri_250               -0.098155   -0.098128       1.000000   \n",
       "CWSI_Puri_250                0.157960    0.157967       0.172090   \n",
       "EVI_241_OR_Puri              0.146592    0.146554      -0.327092   \n",
       "EVI_273_OR_Puri             -0.021694   -0.021628       0.222153   \n",
       "NDVI_241_OR_Puri             0.072473    0.072426      -0.271338   \n",
       "NDVI_273_OR_Puri            -0.053312   -0.053241       0.247325   \n",
       "puri_07_12_sept_sm_250m      0.065694    0.065709      -0.069707   \n",
       "Puri_7_11_october_sm_250m    0.082606    0.082657       0.044105   \n",
       "Puri_max_GS_250             -0.140157   -0.140227      -0.251671   \n",
       "Puri_max_VS_250              0.039457    0.039498       0.381057   \n",
       "Puri_min_GS_250             -0.036173   -0.036230      -0.350944   \n",
       "Puri_min_VS_250             -0.048823   -0.048879      -0.341223   \n",
       "Puri_rf_GS_250              -0.271449   -0.271511      -0.009401   \n",
       "Puri_rf_VS_250               0.013234    0.013207      -0.388692   \n",
       "\n",
       "                           CWSI_Puri_250  EVI_241_OR_Puri  ...  \\\n",
       "S_No_                           0.445606        -0.152660  ...   \n",
       "Long                           -0.532670         0.376859  ...   \n",
       "Lat                             0.392250        -0.034456  ...   \n",
       "USIN                           -0.438520         0.154511  ...   \n",
       "Wet_Weight                      0.157960         0.146592  ...   \n",
       "Dry_Weight                      0.157960         0.146592  ...   \n",
       "Yield_kg_h                      0.157967         0.146554  ...   \n",
       "CCCI_Puri_250                   0.172090        -0.327092  ...   \n",
       "CWSI_Puri_250                   1.000000         0.173188  ...   \n",
       "EVI_241_OR_Puri                 0.173188         1.000000  ...   \n",
       "EVI_273_OR_Puri                 0.136374        -0.222225  ...   \n",
       "NDVI_241_OR_Puri                0.219015         0.920029  ...   \n",
       "NDVI_273_OR_Puri                0.185778        -0.246754  ...   \n",
       "puri_07_12_sept_sm_250m         0.193338         0.250438  ...   \n",
       "Puri_7_11_october_sm_250m       0.308266         0.208461  ...   \n",
       "Puri_max_GS_250                -0.655399         0.186760  ...   \n",
       "Puri_max_VS_250                 0.660194        -0.221138  ...   \n",
       "Puri_min_GS_250                -0.663541         0.244944  ...   \n",
       "Puri_min_VS_250                -0.669487         0.227083  ...   \n",
       "Puri_rf_GS_250                 -0.404549        -0.014434  ...   \n",
       "Puri_rf_VS_250                 -0.617477         0.194982  ...   \n",
       "\n",
       "                           NDVI_241_OR_Puri  NDVI_273_OR_Puri  \\\n",
       "S_No_                             -0.047113          0.320103   \n",
       "Long                               0.264316         -0.525052   \n",
       "Lat                               -0.029749          0.028658   \n",
       "USIN                               0.049700         -0.321512   \n",
       "Wet_Weight                         0.072473         -0.053312   \n",
       "Dry_Weight                         0.072473         -0.053312   \n",
       "Yield_kg_h                         0.072426         -0.053241   \n",
       "CCCI_Puri_250                     -0.271338          0.247325   \n",
       "CWSI_Puri_250                      0.219015          0.185778   \n",
       "EVI_241_OR_Puri                    0.920029         -0.246754   \n",
       "EVI_273_OR_Puri                   -0.161359          0.931118   \n",
       "NDVI_241_OR_Puri                   1.000000         -0.168262   \n",
       "NDVI_273_OR_Puri                  -0.168262          1.000000   \n",
       "puri_07_12_sept_sm_250m            0.327415          0.015270   \n",
       "Puri_7_11_october_sm_250m          0.255665          0.053770   \n",
       "Puri_max_GS_250                    0.091722         -0.388268   \n",
       "Puri_max_VS_250                   -0.102481          0.464758   \n",
       "Puri_min_GS_250                    0.132690         -0.466935   \n",
       "Puri_min_VS_250                    0.113211         -0.463512   \n",
       "Puri_rf_GS_250                    -0.049740         -0.018058   \n",
       "Puri_rf_VS_250                     0.066422         -0.411732   \n",
       "\n",
       "                           puri_07_12_sept_sm_250m  Puri_7_11_october_sm_250m  \\\n",
       "S_No_                                     0.074044                   0.140117   \n",
       "Long                                      0.038512                  -0.082764   \n",
       "Lat                                       0.249915                   0.235090   \n",
       "USIN                                     -0.074410                  -0.141736   \n",
       "Wet_Weight                                0.065694                   0.082606   \n",
       "Dry_Weight                                0.065694                   0.082606   \n",
       "Yield_kg_h                                0.065709                   0.082657   \n",
       "CCCI_Puri_250                            -0.069707                   0.044105   \n",
       "CWSI_Puri_250                             0.193338                   0.308266   \n",
       "EVI_241_OR_Puri                           0.250438                   0.208461   \n",
       "EVI_273_OR_Puri                           0.030213                   0.055320   \n",
       "NDVI_241_OR_Puri                          0.327415                   0.255665   \n",
       "NDVI_273_OR_Puri                          0.015270                   0.053770   \n",
       "puri_07_12_sept_sm_250m                   1.000000                   0.706285   \n",
       "Puri_7_11_october_sm_250m                 0.706285                   1.000000   \n",
       "Puri_max_GS_250                          -0.169970                  -0.234965   \n",
       "Puri_max_VS_250                           0.145429                   0.224883   \n",
       "Puri_min_GS_250                          -0.118830                  -0.206226   \n",
       "Puri_min_VS_250                          -0.130776                  -0.214968   \n",
       "Puri_rf_GS_250                           -0.266076                  -0.257959   \n",
       "Puri_rf_VS_250                           -0.161647                  -0.235112   \n",
       "\n",
       "                           Puri_max_GS_250  Puri_max_VS_250  Puri_min_GS_250  \\\n",
       "S_No_                            -0.474683         0.600554        -0.577051   \n",
       "Long                              0.738492        -0.849142         0.873696   \n",
       "Lat                              -0.732300         0.523131        -0.559437   \n",
       "USIN                              0.470236        -0.594736         0.572537   \n",
       "Wet_Weight                       -0.140157         0.039457        -0.036173   \n",
       "Dry_Weight                       -0.140157         0.039457        -0.036173   \n",
       "Yield_kg_h                       -0.140227         0.039498        -0.036230   \n",
       "CCCI_Puri_250                    -0.251671         0.381057        -0.350944   \n",
       "CWSI_Puri_250                    -0.655399         0.660194        -0.663541   \n",
       "EVI_241_OR_Puri                   0.186760        -0.221138         0.244944   \n",
       "EVI_273_OR_Puri                  -0.356778         0.419593        -0.420741   \n",
       "NDVI_241_OR_Puri                  0.091722        -0.102481         0.132690   \n",
       "NDVI_273_OR_Puri                 -0.388268         0.464758        -0.466935   \n",
       "puri_07_12_sept_sm_250m          -0.169970         0.145429        -0.118830   \n",
       "Puri_7_11_october_sm_250m        -0.234965         0.224883        -0.206226   \n",
       "Puri_max_GS_250                   1.000000        -0.925135         0.970339   \n",
       "Puri_max_VS_250                  -0.925135         1.000000        -0.970743   \n",
       "Puri_min_GS_250                   0.970339        -0.970743         1.000000   \n",
       "Puri_min_VS_250                   0.973275        -0.975327         0.999172   \n",
       "Puri_rf_GS_250                    0.719513        -0.555770         0.569575   \n",
       "Puri_rf_VS_250                    0.872792        -0.968782         0.920646   \n",
       "\n",
       "                           Puri_min_VS_250  Puri_rf_GS_250  Puri_rf_VS_250  \n",
       "S_No_                            -0.575528       -0.072877       -0.578286  \n",
       "Long                              0.859320        0.166060        0.802077  \n",
       "Lat                              -0.569989       -0.928880       -0.497500  \n",
       "USIN                              0.570894        0.066007        0.571134  \n",
       "Wet_Weight                       -0.048823       -0.271449        0.013234  \n",
       "Dry_Weight                       -0.048823       -0.271449        0.013234  \n",
       "Yield_kg_h                       -0.048879       -0.271511        0.013207  \n",
       "CCCI_Puri_250                    -0.341223       -0.009401       -0.388692  \n",
       "CWSI_Puri_250                    -0.669487       -0.404549       -0.617477  \n",
       "EVI_241_OR_Puri                   0.227083       -0.014434        0.194982  \n",
       "EVI_273_OR_Puri                  -0.416431       -0.037805       -0.368303  \n",
       "NDVI_241_OR_Puri                  0.113211       -0.049740        0.066422  \n",
       "NDVI_273_OR_Puri                 -0.463512       -0.018058       -0.411732  \n",
       "puri_07_12_sept_sm_250m          -0.130776       -0.266076       -0.161647  \n",
       "Puri_7_11_october_sm_250m        -0.214968       -0.257959       -0.235112  \n",
       "Puri_max_GS_250                   0.973275        0.719513        0.872792  \n",
       "Puri_max_VS_250                  -0.975327       -0.555770       -0.968782  \n",
       "Puri_min_GS_250                   0.999172        0.569575        0.920646  \n",
       "Puri_min_VS_250                   1.000000        0.582776        0.926883  \n",
       "Puri_rf_GS_250                    0.582776        1.000000        0.611146  \n",
       "Puri_rf_VS_250                    0.926883        0.611146        1.000000  \n",
       "\n",
       "[21 rows x 21 columns]"
      ]
     },
     "execution_count": 7,
     "metadata": {},
     "output_type": "execute_result"
    }
   ],
   "source": [
    "corr"
   ]
  },
  {
   "cell_type": "code",
   "execution_count": 8,
   "metadata": {},
   "outputs": [],
   "source": [
    "data.drop(columns=['Long','State','District','Block_Mand','Village','CCE_Date','Target_Cro',\n",
    "                   'QC_Status','CCE_Plot_S','Geo_Coordi','Lat','S_No_','USIN','Wet_Weight','Dry_Weight'],axis=1,inplace=True)"
   ]
  },
  {
   "cell_type": "code",
   "execution_count": 9,
   "metadata": {},
   "outputs": [],
   "source": [
    "data['Avg_max'] = (data.Puri_max_GS_250+data.Puri_max_VS_250)/2\n",
    "data['Avg_min'] = (data.Puri_min_GS_250+data.Puri_min_VS_250)/2\n",
    "data['Sum_rf'] = (data.Puri_rf_GS_250+data.Puri_rf_VS_250)"
   ]
  },
  {
   "cell_type": "code",
   "execution_count": 10,
   "metadata": {},
   "outputs": [],
   "source": [
    "### Thresholding is applied for outlier treatment\n",
    "low_thresh = np.mean(data.Yield_kg_h)-2*np.std(data.Yield_kg_h)\n",
    "upp_thresh = np.mean(data.Yield_kg_h)+2*np.std(data.Yield_kg_h)"
   ]
  },
  {
   "cell_type": "code",
   "execution_count": 11,
   "metadata": {},
   "outputs": [
    {
     "data": {
      "text/plain": [
       "3011.4236756732207"
      ]
     },
     "execution_count": 11,
     "metadata": {},
     "output_type": "execute_result"
    }
   ],
   "source": [
    "low_thresh"
   ]
  },
  {
   "cell_type": "code",
   "execution_count": 12,
   "metadata": {},
   "outputs": [
    {
     "data": {
      "text/plain": [
       "5310.501790165288"
      ]
     },
     "execution_count": 12,
     "metadata": {},
     "output_type": "execute_result"
    }
   ],
   "source": [
    "upp_thresh"
   ]
  },
  {
   "cell_type": "code",
   "execution_count": 13,
   "metadata": {},
   "outputs": [],
   "source": [
    "selected_data = data[np.logical_and(data.Yield_kg_h > low_thresh, data.Yield_kg_h < upp_thresh)]"
   ]
  },
  {
   "cell_type": "code",
   "execution_count": 14,
   "metadata": {},
   "outputs": [],
   "source": [
    "X = selected_data.drop(['Yield_kg_h'],axis=1)\n",
    "Y = selected_data.Yield_kg_h"
   ]
  },
  {
   "cell_type": "code",
   "execution_count": 15,
   "metadata": {
    "scrolled": false
   },
   "outputs": [
    {
     "name": "stdout",
     "output_type": "stream",
     "text": [
      "<class 'pandas.core.frame.DataFrame'>\n",
      "Int64Index: 152 entries, 0 to 160\n",
      "Data columns (total 17 columns):\n",
      "CCCI_Puri_250                152 non-null float64\n",
      "CWSI_Puri_250                152 non-null float64\n",
      "EVI_241_OR_Puri              152 non-null float64\n",
      "EVI_273_OR_Puri              152 non-null float64\n",
      "NDVI_241_OR_Puri             152 non-null float64\n",
      "NDVI_273_OR_Puri             152 non-null float64\n",
      "puri_07_12_sept_sm_250m      152 non-null float64\n",
      "Puri_7_11_october_sm_250m    152 non-null float64\n",
      "Puri_max_GS_250              152 non-null float64\n",
      "Puri_max_VS_250              152 non-null float64\n",
      "Puri_min_GS_250              152 non-null float64\n",
      "Puri_min_VS_250              152 non-null float64\n",
      "Puri_rf_GS_250               152 non-null float64\n",
      "Puri_rf_VS_250               152 non-null float64\n",
      "Avg_max                      152 non-null float64\n",
      "Avg_min                      152 non-null float64\n",
      "Sum_rf                       152 non-null float64\n",
      "dtypes: float64(17)\n",
      "memory usage: 21.4 KB\n"
     ]
    }
   ],
   "source": [
    "X.info()"
   ]
  },
  {
   "cell_type": "code",
   "execution_count": 16,
   "metadata": {},
   "outputs": [],
   "source": [
    "from sklearn.model_selection import train_test_split"
   ]
  },
  {
   "cell_type": "code",
   "execution_count": 17,
   "metadata": {},
   "outputs": [],
   "source": [
    "from sklearn.ensemble import RandomForestRegressor\n",
    "from sklearn.metrics import r2_score"
   ]
  },
  {
   "cell_type": "code",
   "execution_count": 20,
   "metadata": {
    "scrolled": true
   },
   "outputs": [
    {
     "name": "stdout",
     "output_type": "stream",
     "text": [
      "Train score: 0.7131172498547554\n",
      "Test score: 0.7066564943268641\n",
      "5.619659828591161\n"
     ]
    }
   ],
   "source": [
    "X_train, X_test, Y_train, Y_test = train_test_split(X, Y, random_state = 98, test_size=0.1)\n",
    "rf = RandomForestRegressor(n_estimators=60, max_depth=8, min_samples_split=3, random_state=23)\n",
    "rf.fit(X_train, Y_train)\n",
    "x_pred = rf.predict(X_train)\n",
    "y_pred = rf.predict(X_test)\n",
    "print('Train score:',r2_score(x_pred, Y_train))\n",
    "print('Test score:',r2_score(Y_test, y_pred))\n",
    "devs = ((y_pred-Y_test)/Y_test)*100\n",
    "print(np.mean(np.abs(devs)))"
   ]
  },
  {
   "cell_type": "code",
   "execution_count": 21,
   "metadata": {},
   "outputs": [],
   "source": [
    "import xgboost as xgb"
   ]
  },
  {
   "cell_type": "code",
   "execution_count": 22,
   "metadata": {},
   "outputs": [
    {
     "name": "stdout",
     "output_type": "stream",
     "text": [
      "Train score:  0.9946492281646088\n",
      "Test score:  0.7126908468365947\n",
      "5.04022988432568\n"
     ]
    }
   ],
   "source": [
    "xg_reg = xgb.XGBRegressor(objective ='reg:squarederror', colsample_bytree = 0.65, learning_rate = .64,\n",
    "                max_depth = 6, alpha = 7, n_estimators = 30)\n",
    "xg_reg.fit(X_train,Y_train)\n",
    "\n",
    "x_pred_xgb = xg_reg.predict(X_train)\n",
    "y_pred_xgb = xg_reg.predict(X_test)\n",
    "print(\"Train score: \", r2_score(x_pred_xgb,Y_train))\n",
    "print(\"Test score: \",r2_score(Y_test, y_pred_xgb))\n",
    "devs = ((y_pred_xgb-Y_test)/Y_test)*100\n",
    "print(np.mean(np.abs(devs)))"
   ]
  },
  {
   "cell_type": "markdown",
   "metadata": {},
   "source": [
    "## -----Final Model is RF-----"
   ]
  },
  {
   "cell_type": "code",
   "execution_count": 23,
   "metadata": {},
   "outputs": [],
   "source": [
    "output = data_total.iloc[X_test.index].copy()\n",
    "output['Avg_max'] = X_test.Avg_max\n",
    "output['Avg_min'] = X_test.Avg_min\n",
    "output['Sum_rf'] = X_test.Sum_rf\n",
    "output['Prediction'] = y_pred\n",
    "output.reset_index(drop=True, inplace=True)\n",
    "output.to_excel(\"Puri_250M_Predictions.xlsx\")"
   ]
  },
  {
   "cell_type": "code",
   "execution_count": 106,
   "metadata": {
    "scrolled": false
   },
   "outputs": [
    {
     "name": "stdout",
     "output_type": "stream",
     "text": [
      "<class 'pandas.core.frame.DataFrame'>\n",
      "RangeIndex: 16 entries, 0 to 15\n",
      "Data columns (total 19 columns):\n",
      "Yield_kg_h                   16 non-null int64\n",
      "CCCI_Puri_250                16 non-null float64\n",
      "CWSI_Puri_250                16 non-null float64\n",
      "EVI_241_OR_Puri              16 non-null float64\n",
      "EVI_273_OR_Puri              16 non-null float64\n",
      "NDVI_241_OR_Puri             16 non-null float64\n",
      "NDVI_273_OR_Puri             16 non-null float64\n",
      "puri_07_12_sept_sm_250m      16 non-null float64\n",
      "Puri_7_11_october_sm_250m    16 non-null float64\n",
      "Puri_max_GS_250              16 non-null float64\n",
      "Puri_max_VS_250              16 non-null float64\n",
      "Puri_min_GS_250              16 non-null float64\n",
      "Puri_min_VS_250              16 non-null float64\n",
      "Puri_rf_GS_250               16 non-null float64\n",
      "Puri_rf_VS_250               16 non-null float64\n",
      "Avg_max                      16 non-null float64\n",
      "Avg_min                      16 non-null float64\n",
      "Sum_rf                       16 non-null float64\n",
      "Prediction                   16 non-null float64\n",
      "dtypes: float64(18), int64(1)\n",
      "memory usage: 2.5 KB\n"
     ]
    }
   ],
   "source": [
    "output.info()"
   ]
  },
  {
   "cell_type": "markdown",
   "metadata": {},
   "source": [
    "###  Final Predictions"
   ]
  },
  {
   "cell_type": "code",
   "execution_count": 107,
   "metadata": {},
   "outputs": [],
   "source": [
    "data2 = pd.read_csv('250M_INPUT_FOR_YIELD_MAP/Puri_CWSI_250.csv')\n",
    "data1 = data2.copy()"
   ]
  },
  {
   "cell_type": "code",
   "execution_count": 108,
   "metadata": {},
   "outputs": [
    {
     "name": "stdout",
     "output_type": "stream",
     "text": [
      "<class 'pandas.core.frame.DataFrame'>\n",
      "RangeIndex: 35453 entries, 0 to 35452\n",
      "Data columns (total 19 columns):\n",
      "FID          35453 non-null int64\n",
      "pointid      35453 non-null int64\n",
      "grid_code    35453 non-null float64\n",
      "POINT_X      35453 non-null float64\n",
      "POINT_Y      35453 non-null float64\n",
      "CCCI         35453 non-null float64\n",
      "EVI_241      35453 non-null float64\n",
      "EVI_273      35453 non-null float64\n",
      "NDVI_241     35453 non-null float64\n",
      "NDVI_273     35453 non-null float64\n",
      "SM_SEP       35453 non-null float64\n",
      "SM_OCT       35453 non-null float64\n",
      "MAX_GS       35453 non-null float64\n",
      "MAX_VS       35453 non-null float64\n",
      "MIN_GS       35453 non-null float64\n",
      "MIN_VS       35453 non-null float64\n",
      "RF_GS        35453 non-null float64\n",
      "RF_VS        35453 non-null float64\n",
      "CWSI         35453 non-null float64\n",
      "dtypes: float64(17), int64(2)\n",
      "memory usage: 5.1 MB\n"
     ]
    }
   ],
   "source": [
    "data1.info()"
   ]
  },
  {
   "cell_type": "code",
   "execution_count": 109,
   "metadata": {},
   "outputs": [
    {
     "name": "stdout",
     "output_type": "stream",
     "text": [
      "<class 'pandas.core.frame.DataFrame'>\n",
      "Int64Index: 152 entries, 0 to 160\n",
      "Data columns (total 18 columns):\n",
      "Yield_kg_h                   152 non-null int64\n",
      "CCCI_Puri_250                152 non-null float64\n",
      "CWSI_Puri_250                152 non-null float64\n",
      "EVI_241_OR_Puri              152 non-null float64\n",
      "EVI_273_OR_Puri              152 non-null float64\n",
      "NDVI_241_OR_Puri             152 non-null float64\n",
      "NDVI_273_OR_Puri             152 non-null float64\n",
      "puri_07_12_sept_sm_250m      152 non-null float64\n",
      "Puri_7_11_october_sm_250m    152 non-null float64\n",
      "Puri_max_GS_250              152 non-null float64\n",
      "Puri_max_VS_250              152 non-null float64\n",
      "Puri_min_GS_250              152 non-null float64\n",
      "Puri_min_VS_250              152 non-null float64\n",
      "Puri_rf_GS_250               152 non-null float64\n",
      "Puri_rf_VS_250               152 non-null float64\n",
      "Avg_max                      152 non-null float64\n",
      "Avg_min                      152 non-null float64\n",
      "Sum_rf                       152 non-null float64\n",
      "dtypes: float64(17), int64(1)\n",
      "memory usage: 22.6 KB\n"
     ]
    }
   ],
   "source": [
    "selected_data.info()"
   ]
  },
  {
   "cell_type": "code",
   "execution_count": 110,
   "metadata": {},
   "outputs": [],
   "source": [
    "data1['Avg_max'] = (data1.MAX_GS+data1.MAX_VS)/2\n",
    "data1['Avg_min'] = (data1.MIN_GS+data1.MIN_VS)/2\n",
    "data1['Sum_rf'] = (data1.RF_GS+data1.RF_VS)"
   ]
  },
  {
   "cell_type": "code",
   "execution_count": 111,
   "metadata": {},
   "outputs": [],
   "source": [
    "data1.drop(['FID', 'pointid', 'grid_code', 'POINT_X', 'POINT_Y'],axis=1, inplace=True)"
   ]
  },
  {
   "cell_type": "code",
   "execution_count": 112,
   "metadata": {
    "scrolled": true
   },
   "outputs": [],
   "source": [
    "data1.rename(columns={'SM_OCT':'Puri_7_11_october_sm_250m', 'SM_SEP':'puri_07_12_sept_sm_250m',\n",
    "               'CCCI':'CCCI_Puri_250', 'CWSI':'CWSI_Puri_250', \n",
    "                      'MAX_GS':'Puri_max_GS_250','MAX_VS':'Puri_max_VS_250',\n",
    "                      'MIN_GS':'Puri_min_GS_250','MIN_VS':'Puri_min_VS_250',\n",
    "                      'RF_GS':'Puri_rf_GS_250','RF_VS':'Puri_rf_VS_250',\n",
    "               'EVI_241':'EVI_241_OR_Puri', 'EVI_273':'EVI_273_OR_Puri',\n",
    "               'NDVI_241':'NDVI_241_OR_Puri', 'NDVI_273':'NDVI_273_OR_Puri'},inplace=True)"
   ]
  },
  {
   "cell_type": "code",
   "execution_count": 113,
   "metadata": {},
   "outputs": [
    {
     "data": {
      "text/plain": [
       "Index(['CCCI_Puri_250', 'CWSI_Puri_250', 'EVI_241_OR_Puri', 'EVI_273_OR_Puri',\n",
       "       'NDVI_241_OR_Puri', 'NDVI_273_OR_Puri', 'puri_07_12_sept_sm_250m',\n",
       "       'Puri_7_11_october_sm_250m', 'Puri_max_GS_250', 'Puri_max_VS_250',\n",
       "       'Puri_min_GS_250', 'Puri_min_VS_250', 'Puri_rf_GS_250',\n",
       "       'Puri_rf_VS_250', 'Avg_max', 'Avg_min', 'Sum_rf'],\n",
       "      dtype='object')"
      ]
     },
     "execution_count": 113,
     "metadata": {},
     "output_type": "execute_result"
    }
   ],
   "source": [
    "X_train.columns"
   ]
  },
  {
   "cell_type": "code",
   "execution_count": 114,
   "metadata": {},
   "outputs": [],
   "source": [
    "data1 = data1[['CCCI_Puri_250', 'CWSI_Puri_250', 'EVI_241_OR_Puri', 'EVI_273_OR_Puri',\n",
    "       'NDVI_241_OR_Puri', 'NDVI_273_OR_Puri', 'puri_07_12_sept_sm_250m',\n",
    "       'Puri_7_11_october_sm_250m', 'Puri_max_GS_250', 'Puri_max_VS_250',\n",
    "       'Puri_min_GS_250', 'Puri_min_VS_250', 'Puri_rf_GS_250',\n",
    "       'Puri_rf_VS_250', 'Avg_max', 'Avg_min', 'Sum_rf']]"
   ]
  },
  {
   "cell_type": "code",
   "execution_count": 115,
   "metadata": {},
   "outputs": [
    {
     "name": "stdout",
     "output_type": "stream",
     "text": [
      "<class 'pandas.core.frame.DataFrame'>\n",
      "RangeIndex: 35453 entries, 0 to 35452\n",
      "Data columns (total 17 columns):\n",
      "CCCI_Puri_250                35453 non-null float64\n",
      "CWSI_Puri_250                35453 non-null float64\n",
      "EVI_241_OR_Puri              35453 non-null float64\n",
      "EVI_273_OR_Puri              35453 non-null float64\n",
      "NDVI_241_OR_Puri             35453 non-null float64\n",
      "NDVI_273_OR_Puri             35453 non-null float64\n",
      "puri_07_12_sept_sm_250m      35453 non-null float64\n",
      "Puri_7_11_october_sm_250m    35453 non-null float64\n",
      "Puri_max_GS_250              35453 non-null float64\n",
      "Puri_max_VS_250              35453 non-null float64\n",
      "Puri_min_GS_250              35453 non-null float64\n",
      "Puri_min_VS_250              35453 non-null float64\n",
      "Puri_rf_GS_250               35453 non-null float64\n",
      "Puri_rf_VS_250               35453 non-null float64\n",
      "Avg_max                      35453 non-null float64\n",
      "Avg_min                      35453 non-null float64\n",
      "Sum_rf                       35453 non-null float64\n",
      "dtypes: float64(17)\n",
      "memory usage: 4.6 MB\n"
     ]
    }
   ],
   "source": [
    "data1.info()"
   ]
  },
  {
   "cell_type": "code",
   "execution_count": 116,
   "metadata": {},
   "outputs": [],
   "source": [
    "data1[data1 == -9999] = np.NaN"
   ]
  },
  {
   "cell_type": "code",
   "execution_count": 117,
   "metadata": {
    "scrolled": true
   },
   "outputs": [],
   "source": [
    "data1.dropna(inplace=True)"
   ]
  },
  {
   "cell_type": "code",
   "execution_count": 118,
   "metadata": {
    "scrolled": false
   },
   "outputs": [],
   "source": [
    "final_preds = rf.predict(data1)"
   ]
  },
  {
   "cell_type": "code",
   "execution_count": 119,
   "metadata": {
    "scrolled": true
   },
   "outputs": [],
   "source": [
    "data1['POINT_X'] = data2.iloc[data1.index][['POINT_X']]\n",
    "data1['POINT_Y'] = data2.iloc[data1.index][['POINT_Y']]"
   ]
  },
  {
   "cell_type": "code",
   "execution_count": 120,
   "metadata": {},
   "outputs": [],
   "source": [
    "data1['Prediction'] = final_preds"
   ]
  },
  {
   "cell_type": "code",
   "execution_count": 121,
   "metadata": {
    "scrolled": true
   },
   "outputs": [
    {
     "name": "stdout",
     "output_type": "stream",
     "text": [
      "<class 'pandas.core.frame.DataFrame'>\n",
      "Int64Index: 32863 entries, 0 to 35452\n",
      "Data columns (total 20 columns):\n",
      "CCCI_Puri_250                32863 non-null float64\n",
      "CWSI_Puri_250                32863 non-null float64\n",
      "EVI_241_OR_Puri              32863 non-null float64\n",
      "EVI_273_OR_Puri              32863 non-null float64\n",
      "NDVI_241_OR_Puri             32863 non-null float64\n",
      "NDVI_273_OR_Puri             32863 non-null float64\n",
      "puri_07_12_sept_sm_250m      32863 non-null float64\n",
      "Puri_7_11_october_sm_250m    32863 non-null float64\n",
      "Puri_max_GS_250              32863 non-null float64\n",
      "Puri_max_VS_250              32863 non-null float64\n",
      "Puri_min_GS_250              32863 non-null float64\n",
      "Puri_min_VS_250              32863 non-null float64\n",
      "Puri_rf_GS_250               32863 non-null float64\n",
      "Puri_rf_VS_250               32863 non-null float64\n",
      "Avg_max                      32863 non-null float64\n",
      "Avg_min                      32863 non-null float64\n",
      "Sum_rf                       32863 non-null float64\n",
      "POINT_X                      32863 non-null float64\n",
      "POINT_Y                      32863 non-null float64\n",
      "Prediction                   32863 non-null float64\n",
      "dtypes: float64(20)\n",
      "memory usage: 5.3 MB\n"
     ]
    }
   ],
   "source": [
    "data1.info()"
   ]
  },
  {
   "cell_type": "code",
   "execution_count": 122,
   "metadata": {},
   "outputs": [],
   "source": [
    "data1.to_csv('250M_INPUT_FOR_YIELD_MAP/Puri_250M_Predictions.csv')"
   ]
  },
  {
   "cell_type": "code",
   "execution_count": 4,
   "metadata": {},
   "outputs": [
    {
     "data": {
      "text/plain": [
       "4160.962732919254"
      ]
     },
     "execution_count": 4,
     "metadata": {},
     "output_type": "execute_result"
    }
   ],
   "source": [
    "np.mean(data.Yield_kg_h)"
   ]
  },
  {
   "cell_type": "code",
   "execution_count": 124,
   "metadata": {},
   "outputs": [
    {
     "data": {
      "text/plain": [
       "4040.6398389679584"
      ]
     },
     "execution_count": 124,
     "metadata": {},
     "output_type": "execute_result"
    }
   ],
   "source": [
    "np.mean(final_preds)"
   ]
  }
 ],
 "metadata": {
  "kernelspec": {
   "display_name": "Python 3",
   "language": "python",
   "name": "python3"
  },
  "language_info": {
   "codemirror_mode": {
    "name": "ipython",
    "version": 3
   },
   "file_extension": ".py",
   "mimetype": "text/x-python",
   "name": "python",
   "nbconvert_exporter": "python",
   "pygments_lexer": "ipython3",
   "version": "3.7.3"
  }
 },
 "nbformat": 4,
 "nbformat_minor": 2
}
