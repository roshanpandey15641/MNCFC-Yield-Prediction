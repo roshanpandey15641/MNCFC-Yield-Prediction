{
 "cells": [
  {
   "cell_type": "code",
   "execution_count": 1,
   "metadata": {},
   "outputs": [],
   "source": [
    "import numpy as np\n",
    "import pandas as pd\n",
    "import matplotlib.pyplot as plt\n",
    "import seaborn as sns"
   ]
  },
  {
   "cell_type": "code",
   "execution_count": 2,
   "metadata": {},
   "outputs": [],
   "source": [
    "%matplotlib inline\n",
    "plt.rcParams['font.size']=14\n",
    "plt.rcParams['axes.titlepad']= 8\n",
    "plt.rcParams['axes.titlesize']= 'medium'\n",
    "plt.rcParams['axes.grid']=True\n",
    "plt.rcParams['figure.figsize'] = (5,5)\n",
    "plt.rcParams['axes.facecolor'] = 'white'"
   ]
  },
  {
   "cell_type": "code",
   "execution_count": 3,
   "metadata": {},
   "outputs": [],
   "source": [
    "data_total = pd.read_csv('30M_Train_data/Jagtial_CCE_Extract_One_Stage_30m.csv')\n",
    "data = data_total.copy()"
   ]
  },
  {
   "cell_type": "code",
   "execution_count": 4,
   "metadata": {
    "scrolled": true
   },
   "outputs": [
    {
     "name": "stdout",
     "output_type": "stream",
     "text": [
      "<class 'pandas.core.frame.DataFrame'>\n",
      "RangeIndex: 161 entries, 0 to 160\n",
      "Data columns (total 29 columns):\n",
      "S_No_                        161 non-null int64\n",
      "USIN                         161 non-null int64\n",
      "State                        161 non-null object\n",
      "District                     161 non-null object\n",
      "Block_Mand                   161 non-null object\n",
      "Village                      161 non-null object\n",
      "CCE_Date                     161 non-null object\n",
      "Target_Cro                   161 non-null object\n",
      "CCE_Plot_S                   161 non-null object\n",
      "Wet_Weight                   161 non-null float64\n",
      "Dry_Weight                   161 non-null float64\n",
      "QC_Status                    161 non-null object\n",
      "Geo                          161 non-null object\n",
      "Lon                          161 non-null float64\n",
      "Lat                          161 non-null float64\n",
      "Status                       161 non-null object\n",
      "Yield_kg_h                   161 non-null float64\n",
      "CCCI_Jagtial_30              161 non-null float64\n",
      "CWSI_Jagtial_30              161 non-null float64\n",
      "EVI_jagtial_20200930_30m     161 non-null float64\n",
      "Jagtial_22_Aug_SM_10m_30     161 non-null float64\n",
      "jagtial_9.oct_sm_10m_30      161 non-null float64\n",
      "Jagtial_max_GS_30            161 non-null float64\n",
      "Jagtial_max_VS_30            161 non-null float64\n",
      "Jagtial_min_GS_30            161 non-null float64\n",
      "Jagtial_min_VS_30            161 non-null float64\n",
      "Jagtial_rf_GS_30             161 non-null float64\n",
      "Jagtial_rf_VS_30             161 non-null float64\n",
      "NDVI_jagtial_20200930_30m    161 non-null float64\n",
      "dtypes: float64(17), int64(2), object(10)\n",
      "memory usage: 36.6+ KB\n"
     ]
    }
   ],
   "source": [
    "data.info()"
   ]
  },
  {
   "cell_type": "code",
   "execution_count": 5,
   "metadata": {},
   "outputs": [],
   "source": [
    "corr = data.corr()"
   ]
  },
  {
   "cell_type": "code",
   "execution_count": 6,
   "metadata": {
    "scrolled": true
   },
   "outputs": [],
   "source": [
    "corr.to_excel(\"Jagtial_Corr.xlsx\")"
   ]
  },
  {
   "cell_type": "code",
   "execution_count": 7,
   "metadata": {
    "scrolled": true
   },
   "outputs": [
    {
     "data": {
      "text/html": [
       "<div>\n",
       "<style scoped>\n",
       "    .dataframe tbody tr th:only-of-type {\n",
       "        vertical-align: middle;\n",
       "    }\n",
       "\n",
       "    .dataframe tbody tr th {\n",
       "        vertical-align: top;\n",
       "    }\n",
       "\n",
       "    .dataframe thead th {\n",
       "        text-align: right;\n",
       "    }\n",
       "</style>\n",
       "<table border=\"1\" class=\"dataframe\">\n",
       "  <thead>\n",
       "    <tr style=\"text-align: right;\">\n",
       "      <th></th>\n",
       "      <th>S_No_</th>\n",
       "      <th>USIN</th>\n",
       "      <th>Wet_Weight</th>\n",
       "      <th>Dry_Weight</th>\n",
       "      <th>Lon</th>\n",
       "      <th>Lat</th>\n",
       "      <th>Yield_kg_h</th>\n",
       "      <th>CCCI_Jagtial_30</th>\n",
       "      <th>CWSI_Jagtial_30</th>\n",
       "      <th>EVI_jagtial_20200930_30m</th>\n",
       "      <th>Jagtial_22_Aug_SM_10m_30</th>\n",
       "      <th>jagtial_9.oct_sm_10m_30</th>\n",
       "      <th>Jagtial_max_GS_30</th>\n",
       "      <th>Jagtial_max_VS_30</th>\n",
       "      <th>Jagtial_min_GS_30</th>\n",
       "      <th>Jagtial_min_VS_30</th>\n",
       "      <th>Jagtial_rf_GS_30</th>\n",
       "      <th>Jagtial_rf_VS_30</th>\n",
       "      <th>NDVI_jagtial_20200930_30m</th>\n",
       "    </tr>\n",
       "  </thead>\n",
       "  <tbody>\n",
       "    <tr>\n",
       "      <th>S_No_</th>\n",
       "      <td>1.000000</td>\n",
       "      <td>-0.962446</td>\n",
       "      <td>-0.277944</td>\n",
       "      <td>-0.277944</td>\n",
       "      <td>-0.345639</td>\n",
       "      <td>0.133307</td>\n",
       "      <td>-0.277944</td>\n",
       "      <td>0.043109</td>\n",
       "      <td>0.087938</td>\n",
       "      <td>0.121310</td>\n",
       "      <td>0.030279</td>\n",
       "      <td>-0.004936</td>\n",
       "      <td>-0.122419</td>\n",
       "      <td>-0.132079</td>\n",
       "      <td>-0.279800</td>\n",
       "      <td>-0.240641</td>\n",
       "      <td>-0.267345</td>\n",
       "      <td>-0.148206</td>\n",
       "      <td>0.110530</td>\n",
       "    </tr>\n",
       "    <tr>\n",
       "      <th>USIN</th>\n",
       "      <td>-0.962446</td>\n",
       "      <td>1.000000</td>\n",
       "      <td>0.192690</td>\n",
       "      <td>0.192690</td>\n",
       "      <td>0.257352</td>\n",
       "      <td>-0.208690</td>\n",
       "      <td>0.192690</td>\n",
       "      <td>-0.048156</td>\n",
       "      <td>-0.012598</td>\n",
       "      <td>-0.132612</td>\n",
       "      <td>-0.052612</td>\n",
       "      <td>0.018934</td>\n",
       "      <td>-0.028465</td>\n",
       "      <td>-0.004530</td>\n",
       "      <td>0.196905</td>\n",
       "      <td>0.153412</td>\n",
       "      <td>0.237709</td>\n",
       "      <td>0.234001</td>\n",
       "      <td>-0.123713</td>\n",
       "    </tr>\n",
       "    <tr>\n",
       "      <th>Wet_Weight</th>\n",
       "      <td>-0.277944</td>\n",
       "      <td>0.192690</td>\n",
       "      <td>1.000000</td>\n",
       "      <td>1.000000</td>\n",
       "      <td>0.422365</td>\n",
       "      <td>-0.146814</td>\n",
       "      <td>1.000000</td>\n",
       "      <td>0.006823</td>\n",
       "      <td>-0.259182</td>\n",
       "      <td>0.073203</td>\n",
       "      <td>-0.067472</td>\n",
       "      <td>0.137646</td>\n",
       "      <td>0.220920</td>\n",
       "      <td>0.218412</td>\n",
       "      <td>0.393278</td>\n",
       "      <td>0.370545</td>\n",
       "      <td>0.396402</td>\n",
       "      <td>0.056884</td>\n",
       "      <td>0.127294</td>\n",
       "    </tr>\n",
       "    <tr>\n",
       "      <th>Dry_Weight</th>\n",
       "      <td>-0.277944</td>\n",
       "      <td>0.192690</td>\n",
       "      <td>1.000000</td>\n",
       "      <td>1.000000</td>\n",
       "      <td>0.422365</td>\n",
       "      <td>-0.146814</td>\n",
       "      <td>1.000000</td>\n",
       "      <td>0.006823</td>\n",
       "      <td>-0.259182</td>\n",
       "      <td>0.073203</td>\n",
       "      <td>-0.067472</td>\n",
       "      <td>0.137646</td>\n",
       "      <td>0.220920</td>\n",
       "      <td>0.218412</td>\n",
       "      <td>0.393278</td>\n",
       "      <td>0.370545</td>\n",
       "      <td>0.396402</td>\n",
       "      <td>0.056884</td>\n",
       "      <td>0.127294</td>\n",
       "    </tr>\n",
       "    <tr>\n",
       "      <th>Lon</th>\n",
       "      <td>-0.345639</td>\n",
       "      <td>0.257352</td>\n",
       "      <td>0.422365</td>\n",
       "      <td>0.422365</td>\n",
       "      <td>1.000000</td>\n",
       "      <td>-0.296833</td>\n",
       "      <td>0.422365</td>\n",
       "      <td>-0.181269</td>\n",
       "      <td>-0.561685</td>\n",
       "      <td>0.151270</td>\n",
       "      <td>-0.048747</td>\n",
       "      <td>-0.074931</td>\n",
       "      <td>0.487551</td>\n",
       "      <td>0.556908</td>\n",
       "      <td>0.926664</td>\n",
       "      <td>0.863781</td>\n",
       "      <td>0.836574</td>\n",
       "      <td>0.377920</td>\n",
       "      <td>0.193979</td>\n",
       "    </tr>\n",
       "    <tr>\n",
       "      <th>Lat</th>\n",
       "      <td>0.133307</td>\n",
       "      <td>-0.208690</td>\n",
       "      <td>-0.146814</td>\n",
       "      <td>-0.146814</td>\n",
       "      <td>-0.296833</td>\n",
       "      <td>1.000000</td>\n",
       "      <td>-0.146814</td>\n",
       "      <td>0.067417</td>\n",
       "      <td>0.098899</td>\n",
       "      <td>0.191158</td>\n",
       "      <td>-0.085061</td>\n",
       "      <td>-0.087881</td>\n",
       "      <td>0.662950</td>\n",
       "      <td>0.570112</td>\n",
       "      <td>-0.323874</td>\n",
       "      <td>-0.259171</td>\n",
       "      <td>-0.691927</td>\n",
       "      <td>-0.779072</td>\n",
       "      <td>0.142879</td>\n",
       "    </tr>\n",
       "    <tr>\n",
       "      <th>Yield_kg_h</th>\n",
       "      <td>-0.277944</td>\n",
       "      <td>0.192690</td>\n",
       "      <td>1.000000</td>\n",
       "      <td>1.000000</td>\n",
       "      <td>0.422365</td>\n",
       "      <td>-0.146814</td>\n",
       "      <td>1.000000</td>\n",
       "      <td>0.006823</td>\n",
       "      <td>-0.259182</td>\n",
       "      <td>0.073203</td>\n",
       "      <td>-0.067472</td>\n",
       "      <td>0.137646</td>\n",
       "      <td>0.220920</td>\n",
       "      <td>0.218412</td>\n",
       "      <td>0.393278</td>\n",
       "      <td>0.370545</td>\n",
       "      <td>0.396402</td>\n",
       "      <td>0.056884</td>\n",
       "      <td>0.127294</td>\n",
       "    </tr>\n",
       "    <tr>\n",
       "      <th>CCCI_Jagtial_30</th>\n",
       "      <td>0.043109</td>\n",
       "      <td>-0.048156</td>\n",
       "      <td>0.006823</td>\n",
       "      <td>0.006823</td>\n",
       "      <td>-0.181269</td>\n",
       "      <td>0.067417</td>\n",
       "      <td>0.006823</td>\n",
       "      <td>1.000000</td>\n",
       "      <td>0.052436</td>\n",
       "      <td>0.119825</td>\n",
       "      <td>-0.090405</td>\n",
       "      <td>-0.025891</td>\n",
       "      <td>-0.075913</td>\n",
       "      <td>-0.093254</td>\n",
       "      <td>-0.173486</td>\n",
       "      <td>-0.162072</td>\n",
       "      <td>-0.135346</td>\n",
       "      <td>-0.123059</td>\n",
       "      <td>0.165682</td>\n",
       "    </tr>\n",
       "    <tr>\n",
       "      <th>CWSI_Jagtial_30</th>\n",
       "      <td>0.087938</td>\n",
       "      <td>-0.012598</td>\n",
       "      <td>-0.259182</td>\n",
       "      <td>-0.259182</td>\n",
       "      <td>-0.561685</td>\n",
       "      <td>0.098899</td>\n",
       "      <td>-0.259182</td>\n",
       "      <td>0.052436</td>\n",
       "      <td>1.000000</td>\n",
       "      <td>-0.179986</td>\n",
       "      <td>0.096021</td>\n",
       "      <td>-0.016245</td>\n",
       "      <td>-0.346958</td>\n",
       "      <td>-0.346350</td>\n",
       "      <td>-0.492958</td>\n",
       "      <td>-0.457042</td>\n",
       "      <td>-0.494078</td>\n",
       "      <td>-0.040067</td>\n",
       "      <td>-0.202320</td>\n",
       "    </tr>\n",
       "    <tr>\n",
       "      <th>EVI_jagtial_20200930_30m</th>\n",
       "      <td>0.121310</td>\n",
       "      <td>-0.132612</td>\n",
       "      <td>0.073203</td>\n",
       "      <td>0.073203</td>\n",
       "      <td>0.151270</td>\n",
       "      <td>0.191158</td>\n",
       "      <td>0.073203</td>\n",
       "      <td>0.119825</td>\n",
       "      <td>-0.179986</td>\n",
       "      <td>1.000000</td>\n",
       "      <td>-0.174403</td>\n",
       "      <td>-0.033109</td>\n",
       "      <td>0.274262</td>\n",
       "      <td>0.265335</td>\n",
       "      <td>0.114187</td>\n",
       "      <td>0.112589</td>\n",
       "      <td>0.010056</td>\n",
       "      <td>-0.141295</td>\n",
       "      <td>0.981246</td>\n",
       "    </tr>\n",
       "    <tr>\n",
       "      <th>Jagtial_22_Aug_SM_10m_30</th>\n",
       "      <td>0.030279</td>\n",
       "      <td>-0.052612</td>\n",
       "      <td>-0.067472</td>\n",
       "      <td>-0.067472</td>\n",
       "      <td>-0.048747</td>\n",
       "      <td>-0.085061</td>\n",
       "      <td>-0.067472</td>\n",
       "      <td>-0.090405</td>\n",
       "      <td>0.096021</td>\n",
       "      <td>-0.174403</td>\n",
       "      <td>1.000000</td>\n",
       "      <td>0.062881</td>\n",
       "      <td>-0.058205</td>\n",
       "      <td>-0.053630</td>\n",
       "      <td>0.026805</td>\n",
       "      <td>0.051300</td>\n",
       "      <td>-0.005809</td>\n",
       "      <td>0.025236</td>\n",
       "      <td>-0.168595</td>\n",
       "    </tr>\n",
       "    <tr>\n",
       "      <th>jagtial_9.oct_sm_10m_30</th>\n",
       "      <td>-0.004936</td>\n",
       "      <td>0.018934</td>\n",
       "      <td>0.137646</td>\n",
       "      <td>0.137646</td>\n",
       "      <td>-0.074931</td>\n",
       "      <td>-0.087881</td>\n",
       "      <td>0.137646</td>\n",
       "      <td>-0.025891</td>\n",
       "      <td>-0.016245</td>\n",
       "      <td>-0.033109</td>\n",
       "      <td>0.062881</td>\n",
       "      <td>1.000000</td>\n",
       "      <td>-0.103696</td>\n",
       "      <td>-0.114746</td>\n",
       "      <td>-0.038235</td>\n",
       "      <td>-0.027762</td>\n",
       "      <td>-0.002281</td>\n",
       "      <td>-0.046628</td>\n",
       "      <td>-0.063326</td>\n",
       "    </tr>\n",
       "    <tr>\n",
       "      <th>Jagtial_max_GS_30</th>\n",
       "      <td>-0.122419</td>\n",
       "      <td>-0.028465</td>\n",
       "      <td>0.220920</td>\n",
       "      <td>0.220920</td>\n",
       "      <td>0.487551</td>\n",
       "      <td>0.662950</td>\n",
       "      <td>0.220920</td>\n",
       "      <td>-0.075913</td>\n",
       "      <td>-0.346958</td>\n",
       "      <td>0.274262</td>\n",
       "      <td>-0.058205</td>\n",
       "      <td>-0.103696</td>\n",
       "      <td>1.000000</td>\n",
       "      <td>0.978258</td>\n",
       "      <td>0.475254</td>\n",
       "      <td>0.510867</td>\n",
       "      <td>0.017893</td>\n",
       "      <td>-0.426263</td>\n",
       "      <td>0.263046</td>\n",
       "    </tr>\n",
       "    <tr>\n",
       "      <th>Jagtial_max_VS_30</th>\n",
       "      <td>-0.132079</td>\n",
       "      <td>-0.004530</td>\n",
       "      <td>0.218412</td>\n",
       "      <td>0.218412</td>\n",
       "      <td>0.556908</td>\n",
       "      <td>0.570112</td>\n",
       "      <td>0.218412</td>\n",
       "      <td>-0.093254</td>\n",
       "      <td>-0.346350</td>\n",
       "      <td>0.265335</td>\n",
       "      <td>-0.053630</td>\n",
       "      <td>-0.114746</td>\n",
       "      <td>0.978258</td>\n",
       "      <td>1.000000</td>\n",
       "      <td>0.592131</td>\n",
       "      <td>0.634900</td>\n",
       "      <td>0.107022</td>\n",
       "      <td>-0.267238</td>\n",
       "      <td>0.262777</td>\n",
       "    </tr>\n",
       "    <tr>\n",
       "      <th>Jagtial_min_GS_30</th>\n",
       "      <td>-0.279800</td>\n",
       "      <td>0.196905</td>\n",
       "      <td>0.393278</td>\n",
       "      <td>0.393278</td>\n",
       "      <td>0.926664</td>\n",
       "      <td>-0.323874</td>\n",
       "      <td>0.393278</td>\n",
       "      <td>-0.173486</td>\n",
       "      <td>-0.492958</td>\n",
       "      <td>0.114187</td>\n",
       "      <td>0.026805</td>\n",
       "      <td>-0.038235</td>\n",
       "      <td>0.475254</td>\n",
       "      <td>0.592131</td>\n",
       "      <td>1.000000</td>\n",
       "      <td>0.988090</td>\n",
       "      <td>0.797176</td>\n",
       "      <td>0.454653</td>\n",
       "      <td>0.158333</td>\n",
       "    </tr>\n",
       "    <tr>\n",
       "      <th>Jagtial_min_VS_30</th>\n",
       "      <td>-0.240641</td>\n",
       "      <td>0.153412</td>\n",
       "      <td>0.370545</td>\n",
       "      <td>0.370545</td>\n",
       "      <td>0.863781</td>\n",
       "      <td>-0.259171</td>\n",
       "      <td>0.370545</td>\n",
       "      <td>-0.162072</td>\n",
       "      <td>-0.457042</td>\n",
       "      <td>0.112589</td>\n",
       "      <td>0.051300</td>\n",
       "      <td>-0.027762</td>\n",
       "      <td>0.510867</td>\n",
       "      <td>0.634900</td>\n",
       "      <td>0.988090</td>\n",
       "      <td>1.000000</td>\n",
       "      <td>0.722972</td>\n",
       "      <td>0.414155</td>\n",
       "      <td>0.152856</td>\n",
       "    </tr>\n",
       "    <tr>\n",
       "      <th>Jagtial_rf_GS_30</th>\n",
       "      <td>-0.267345</td>\n",
       "      <td>0.237709</td>\n",
       "      <td>0.396402</td>\n",
       "      <td>0.396402</td>\n",
       "      <td>0.836574</td>\n",
       "      <td>-0.691927</td>\n",
       "      <td>0.396402</td>\n",
       "      <td>-0.135346</td>\n",
       "      <td>-0.494078</td>\n",
       "      <td>0.010056</td>\n",
       "      <td>-0.005809</td>\n",
       "      <td>-0.002281</td>\n",
       "      <td>0.017893</td>\n",
       "      <td>0.107022</td>\n",
       "      <td>0.797176</td>\n",
       "      <td>0.722972</td>\n",
       "      <td>1.000000</td>\n",
       "      <td>0.580232</td>\n",
       "      <td>0.054393</td>\n",
       "    </tr>\n",
       "    <tr>\n",
       "      <th>Jagtial_rf_VS_30</th>\n",
       "      <td>-0.148206</td>\n",
       "      <td>0.234001</td>\n",
       "      <td>0.056884</td>\n",
       "      <td>0.056884</td>\n",
       "      <td>0.377920</td>\n",
       "      <td>-0.779072</td>\n",
       "      <td>0.056884</td>\n",
       "      <td>-0.123059</td>\n",
       "      <td>-0.040067</td>\n",
       "      <td>-0.141295</td>\n",
       "      <td>0.025236</td>\n",
       "      <td>-0.046628</td>\n",
       "      <td>-0.426263</td>\n",
       "      <td>-0.267238</td>\n",
       "      <td>0.454653</td>\n",
       "      <td>0.414155</td>\n",
       "      <td>0.580232</td>\n",
       "      <td>1.000000</td>\n",
       "      <td>-0.081787</td>\n",
       "    </tr>\n",
       "    <tr>\n",
       "      <th>NDVI_jagtial_20200930_30m</th>\n",
       "      <td>0.110530</td>\n",
       "      <td>-0.123713</td>\n",
       "      <td>0.127294</td>\n",
       "      <td>0.127294</td>\n",
       "      <td>0.193979</td>\n",
       "      <td>0.142879</td>\n",
       "      <td>0.127294</td>\n",
       "      <td>0.165682</td>\n",
       "      <td>-0.202320</td>\n",
       "      <td>0.981246</td>\n",
       "      <td>-0.168595</td>\n",
       "      <td>-0.063326</td>\n",
       "      <td>0.263046</td>\n",
       "      <td>0.262777</td>\n",
       "      <td>0.158333</td>\n",
       "      <td>0.152856</td>\n",
       "      <td>0.054393</td>\n",
       "      <td>-0.081787</td>\n",
       "      <td>1.000000</td>\n",
       "    </tr>\n",
       "  </tbody>\n",
       "</table>\n",
       "</div>"
      ],
      "text/plain": [
       "                              S_No_      USIN  Wet_Weight  Dry_Weight  \\\n",
       "S_No_                      1.000000 -0.962446   -0.277944   -0.277944   \n",
       "USIN                      -0.962446  1.000000    0.192690    0.192690   \n",
       "Wet_Weight                -0.277944  0.192690    1.000000    1.000000   \n",
       "Dry_Weight                -0.277944  0.192690    1.000000    1.000000   \n",
       "Lon                       -0.345639  0.257352    0.422365    0.422365   \n",
       "Lat                        0.133307 -0.208690   -0.146814   -0.146814   \n",
       "Yield_kg_h                -0.277944  0.192690    1.000000    1.000000   \n",
       "CCCI_Jagtial_30            0.043109 -0.048156    0.006823    0.006823   \n",
       "CWSI_Jagtial_30            0.087938 -0.012598   -0.259182   -0.259182   \n",
       "EVI_jagtial_20200930_30m   0.121310 -0.132612    0.073203    0.073203   \n",
       "Jagtial_22_Aug_SM_10m_30   0.030279 -0.052612   -0.067472   -0.067472   \n",
       "jagtial_9.oct_sm_10m_30   -0.004936  0.018934    0.137646    0.137646   \n",
       "Jagtial_max_GS_30         -0.122419 -0.028465    0.220920    0.220920   \n",
       "Jagtial_max_VS_30         -0.132079 -0.004530    0.218412    0.218412   \n",
       "Jagtial_min_GS_30         -0.279800  0.196905    0.393278    0.393278   \n",
       "Jagtial_min_VS_30         -0.240641  0.153412    0.370545    0.370545   \n",
       "Jagtial_rf_GS_30          -0.267345  0.237709    0.396402    0.396402   \n",
       "Jagtial_rf_VS_30          -0.148206  0.234001    0.056884    0.056884   \n",
       "NDVI_jagtial_20200930_30m  0.110530 -0.123713    0.127294    0.127294   \n",
       "\n",
       "                                Lon       Lat  Yield_kg_h  CCCI_Jagtial_30  \\\n",
       "S_No_                     -0.345639  0.133307   -0.277944         0.043109   \n",
       "USIN                       0.257352 -0.208690    0.192690        -0.048156   \n",
       "Wet_Weight                 0.422365 -0.146814    1.000000         0.006823   \n",
       "Dry_Weight                 0.422365 -0.146814    1.000000         0.006823   \n",
       "Lon                        1.000000 -0.296833    0.422365        -0.181269   \n",
       "Lat                       -0.296833  1.000000   -0.146814         0.067417   \n",
       "Yield_kg_h                 0.422365 -0.146814    1.000000         0.006823   \n",
       "CCCI_Jagtial_30           -0.181269  0.067417    0.006823         1.000000   \n",
       "CWSI_Jagtial_30           -0.561685  0.098899   -0.259182         0.052436   \n",
       "EVI_jagtial_20200930_30m   0.151270  0.191158    0.073203         0.119825   \n",
       "Jagtial_22_Aug_SM_10m_30  -0.048747 -0.085061   -0.067472        -0.090405   \n",
       "jagtial_9.oct_sm_10m_30   -0.074931 -0.087881    0.137646        -0.025891   \n",
       "Jagtial_max_GS_30          0.487551  0.662950    0.220920        -0.075913   \n",
       "Jagtial_max_VS_30          0.556908  0.570112    0.218412        -0.093254   \n",
       "Jagtial_min_GS_30          0.926664 -0.323874    0.393278        -0.173486   \n",
       "Jagtial_min_VS_30          0.863781 -0.259171    0.370545        -0.162072   \n",
       "Jagtial_rf_GS_30           0.836574 -0.691927    0.396402        -0.135346   \n",
       "Jagtial_rf_VS_30           0.377920 -0.779072    0.056884        -0.123059   \n",
       "NDVI_jagtial_20200930_30m  0.193979  0.142879    0.127294         0.165682   \n",
       "\n",
       "                           CWSI_Jagtial_30  EVI_jagtial_20200930_30m  \\\n",
       "S_No_                             0.087938                  0.121310   \n",
       "USIN                             -0.012598                 -0.132612   \n",
       "Wet_Weight                       -0.259182                  0.073203   \n",
       "Dry_Weight                       -0.259182                  0.073203   \n",
       "Lon                              -0.561685                  0.151270   \n",
       "Lat                               0.098899                  0.191158   \n",
       "Yield_kg_h                       -0.259182                  0.073203   \n",
       "CCCI_Jagtial_30                   0.052436                  0.119825   \n",
       "CWSI_Jagtial_30                   1.000000                 -0.179986   \n",
       "EVI_jagtial_20200930_30m         -0.179986                  1.000000   \n",
       "Jagtial_22_Aug_SM_10m_30          0.096021                 -0.174403   \n",
       "jagtial_9.oct_sm_10m_30          -0.016245                 -0.033109   \n",
       "Jagtial_max_GS_30                -0.346958                  0.274262   \n",
       "Jagtial_max_VS_30                -0.346350                  0.265335   \n",
       "Jagtial_min_GS_30                -0.492958                  0.114187   \n",
       "Jagtial_min_VS_30                -0.457042                  0.112589   \n",
       "Jagtial_rf_GS_30                 -0.494078                  0.010056   \n",
       "Jagtial_rf_VS_30                 -0.040067                 -0.141295   \n",
       "NDVI_jagtial_20200930_30m        -0.202320                  0.981246   \n",
       "\n",
       "                           Jagtial_22_Aug_SM_10m_30  jagtial_9.oct_sm_10m_30  \\\n",
       "S_No_                                      0.030279                -0.004936   \n",
       "USIN                                      -0.052612                 0.018934   \n",
       "Wet_Weight                                -0.067472                 0.137646   \n",
       "Dry_Weight                                -0.067472                 0.137646   \n",
       "Lon                                       -0.048747                -0.074931   \n",
       "Lat                                       -0.085061                -0.087881   \n",
       "Yield_kg_h                                -0.067472                 0.137646   \n",
       "CCCI_Jagtial_30                           -0.090405                -0.025891   \n",
       "CWSI_Jagtial_30                            0.096021                -0.016245   \n",
       "EVI_jagtial_20200930_30m                  -0.174403                -0.033109   \n",
       "Jagtial_22_Aug_SM_10m_30                   1.000000                 0.062881   \n",
       "jagtial_9.oct_sm_10m_30                    0.062881                 1.000000   \n",
       "Jagtial_max_GS_30                         -0.058205                -0.103696   \n",
       "Jagtial_max_VS_30                         -0.053630                -0.114746   \n",
       "Jagtial_min_GS_30                          0.026805                -0.038235   \n",
       "Jagtial_min_VS_30                          0.051300                -0.027762   \n",
       "Jagtial_rf_GS_30                          -0.005809                -0.002281   \n",
       "Jagtial_rf_VS_30                           0.025236                -0.046628   \n",
       "NDVI_jagtial_20200930_30m                 -0.168595                -0.063326   \n",
       "\n",
       "                           Jagtial_max_GS_30  Jagtial_max_VS_30  \\\n",
       "S_No_                              -0.122419          -0.132079   \n",
       "USIN                               -0.028465          -0.004530   \n",
       "Wet_Weight                          0.220920           0.218412   \n",
       "Dry_Weight                          0.220920           0.218412   \n",
       "Lon                                 0.487551           0.556908   \n",
       "Lat                                 0.662950           0.570112   \n",
       "Yield_kg_h                          0.220920           0.218412   \n",
       "CCCI_Jagtial_30                    -0.075913          -0.093254   \n",
       "CWSI_Jagtial_30                    -0.346958          -0.346350   \n",
       "EVI_jagtial_20200930_30m            0.274262           0.265335   \n",
       "Jagtial_22_Aug_SM_10m_30           -0.058205          -0.053630   \n",
       "jagtial_9.oct_sm_10m_30            -0.103696          -0.114746   \n",
       "Jagtial_max_GS_30                   1.000000           0.978258   \n",
       "Jagtial_max_VS_30                   0.978258           1.000000   \n",
       "Jagtial_min_GS_30                   0.475254           0.592131   \n",
       "Jagtial_min_VS_30                   0.510867           0.634900   \n",
       "Jagtial_rf_GS_30                    0.017893           0.107022   \n",
       "Jagtial_rf_VS_30                   -0.426263          -0.267238   \n",
       "NDVI_jagtial_20200930_30m           0.263046           0.262777   \n",
       "\n",
       "                           Jagtial_min_GS_30  Jagtial_min_VS_30  \\\n",
       "S_No_                              -0.279800          -0.240641   \n",
       "USIN                                0.196905           0.153412   \n",
       "Wet_Weight                          0.393278           0.370545   \n",
       "Dry_Weight                          0.393278           0.370545   \n",
       "Lon                                 0.926664           0.863781   \n",
       "Lat                                -0.323874          -0.259171   \n",
       "Yield_kg_h                          0.393278           0.370545   \n",
       "CCCI_Jagtial_30                    -0.173486          -0.162072   \n",
       "CWSI_Jagtial_30                    -0.492958          -0.457042   \n",
       "EVI_jagtial_20200930_30m            0.114187           0.112589   \n",
       "Jagtial_22_Aug_SM_10m_30            0.026805           0.051300   \n",
       "jagtial_9.oct_sm_10m_30            -0.038235          -0.027762   \n",
       "Jagtial_max_GS_30                   0.475254           0.510867   \n",
       "Jagtial_max_VS_30                   0.592131           0.634900   \n",
       "Jagtial_min_GS_30                   1.000000           0.988090   \n",
       "Jagtial_min_VS_30                   0.988090           1.000000   \n",
       "Jagtial_rf_GS_30                    0.797176           0.722972   \n",
       "Jagtial_rf_VS_30                    0.454653           0.414155   \n",
       "NDVI_jagtial_20200930_30m           0.158333           0.152856   \n",
       "\n",
       "                           Jagtial_rf_GS_30  Jagtial_rf_VS_30  \\\n",
       "S_No_                             -0.267345         -0.148206   \n",
       "USIN                               0.237709          0.234001   \n",
       "Wet_Weight                         0.396402          0.056884   \n",
       "Dry_Weight                         0.396402          0.056884   \n",
       "Lon                                0.836574          0.377920   \n",
       "Lat                               -0.691927         -0.779072   \n",
       "Yield_kg_h                         0.396402          0.056884   \n",
       "CCCI_Jagtial_30                   -0.135346         -0.123059   \n",
       "CWSI_Jagtial_30                   -0.494078         -0.040067   \n",
       "EVI_jagtial_20200930_30m           0.010056         -0.141295   \n",
       "Jagtial_22_Aug_SM_10m_30          -0.005809          0.025236   \n",
       "jagtial_9.oct_sm_10m_30           -0.002281         -0.046628   \n",
       "Jagtial_max_GS_30                  0.017893         -0.426263   \n",
       "Jagtial_max_VS_30                  0.107022         -0.267238   \n",
       "Jagtial_min_GS_30                  0.797176          0.454653   \n",
       "Jagtial_min_VS_30                  0.722972          0.414155   \n",
       "Jagtial_rf_GS_30                   1.000000          0.580232   \n",
       "Jagtial_rf_VS_30                   0.580232          1.000000   \n",
       "NDVI_jagtial_20200930_30m          0.054393         -0.081787   \n",
       "\n",
       "                           NDVI_jagtial_20200930_30m  \n",
       "S_No_                                       0.110530  \n",
       "USIN                                       -0.123713  \n",
       "Wet_Weight                                  0.127294  \n",
       "Dry_Weight                                  0.127294  \n",
       "Lon                                         0.193979  \n",
       "Lat                                         0.142879  \n",
       "Yield_kg_h                                  0.127294  \n",
       "CCCI_Jagtial_30                             0.165682  \n",
       "CWSI_Jagtial_30                            -0.202320  \n",
       "EVI_jagtial_20200930_30m                    0.981246  \n",
       "Jagtial_22_Aug_SM_10m_30                   -0.168595  \n",
       "jagtial_9.oct_sm_10m_30                    -0.063326  \n",
       "Jagtial_max_GS_30                           0.263046  \n",
       "Jagtial_max_VS_30                           0.262777  \n",
       "Jagtial_min_GS_30                           0.158333  \n",
       "Jagtial_min_VS_30                           0.152856  \n",
       "Jagtial_rf_GS_30                            0.054393  \n",
       "Jagtial_rf_VS_30                           -0.081787  \n",
       "NDVI_jagtial_20200930_30m                   1.000000  "
      ]
     },
     "execution_count": 7,
     "metadata": {},
     "output_type": "execute_result"
    }
   ],
   "source": [
    "corr"
   ]
  },
  {
   "cell_type": "code",
   "execution_count": 8,
   "metadata": {},
   "outputs": [],
   "source": [
    "X = data[['CWSI_Jagtial_30','jagtial_9.oct_sm_10m_30','Jagtial_max_GS_30','Jagtial_max_VS_30',\n",
    "         'Jagtial_min_GS_30','Jagtial_min_VS_30','Jagtial_rf_GS_30','NDVI_jagtial_20200930_30m']]\n",
    "Y = data.Yield_kg_h"
   ]
  },
  {
   "cell_type": "code",
   "execution_count": 9,
   "metadata": {},
   "outputs": [],
   "source": [
    "from sklearn.model_selection import train_test_split"
   ]
  },
  {
   "cell_type": "code",
   "execution_count": 10,
   "metadata": {},
   "outputs": [],
   "source": [
    "from sklearn.ensemble import RandomForestRegressor\n",
    "from sklearn.metrics import r2_score"
   ]
  },
  {
   "cell_type": "code",
   "execution_count": 11,
   "metadata": {
    "scrolled": false
   },
   "outputs": [
    {
     "name": "stdout",
     "output_type": "stream",
     "text": [
      "Train score: 0.7929832473771629\n",
      "Test score: 0.6876043333297646\n",
      "95     -4.061197\n",
      "73    -11.136491\n",
      "23     16.073527\n",
      "126   -20.505967\n",
      "135    -4.344854\n",
      "29     -5.056861\n",
      "83    -12.863063\n",
      "59      5.218381\n",
      "102     6.883955\n",
      "62     -2.055100\n",
      "28     -4.918119\n",
      "49     13.611186\n",
      "68      6.919134\n",
      "37     -2.094008\n",
      "64     -5.165744\n",
      "160   -12.841568\n",
      "148     3.903408\n",
      "Name: Yield_kg_h, dtype: float64\n",
      "Mean Deviation: 8.097209590622372\n"
     ]
    }
   ],
   "source": [
    "X_train, X_test, Y_train, Y_test = train_test_split(X, Y, random_state = 61, test_size=0.1)\n",
    "rf = RandomForestRegressor(n_estimators=55, max_depth=15, min_samples_split=2, random_state=85)\n",
    "rf.fit(X_train, Y_train)\n",
    "x_pred = rf.predict(X_train)\n",
    "y_pred = rf.predict(X_test)\n",
    "print('Train score:', r2_score(x_pred, Y_train))\n",
    "print('Test score:', r2_score(Y_test, y_pred))\n",
    "devs = ((y_pred-Y_test)/Y_test)*100\n",
    "print(devs)\n",
    "print(\"Mean Deviation:\",np.mean(np.abs(devs)))"
   ]
  },
  {
   "cell_type": "code",
   "execution_count": 12,
   "metadata": {},
   "outputs": [],
   "source": [
    "import xgboost as xgb"
   ]
  },
  {
   "cell_type": "code",
   "execution_count": 13,
   "metadata": {
    "scrolled": false
   },
   "outputs": [
    {
     "name": "stdout",
     "output_type": "stream",
     "text": [
      "Train score:  0.9999594939893615\n",
      "Test score:  0.7063129202376078\n",
      "140    -3.691683\n",
      "45    -10.860554\n",
      "91     -8.427507\n",
      "7     -13.097496\n",
      "3      11.176257\n",
      "142    51.133248\n",
      "78    -18.879985\n",
      "92      2.468218\n",
      "53     -1.671302\n",
      "32      4.755882\n",
      "38      1.107455\n",
      "120   -19.661045\n",
      "124   -15.164820\n",
      "101    87.146968\n",
      "115   -20.702197\n",
      "28     -2.002995\n",
      "16     -0.900018\n",
      "Name: Yield_kg_h, dtype: float64\n",
      "Mean Deviation: 16.049860591857698\n",
      "Mean Deviation: 8.97116097717058\n"
     ]
    }
   ],
   "source": [
    "X_train, X_test, Y_train, Y_test = train_test_split(X, Y, random_state = 87, test_size=0.1)\n",
    "xg_reg = xgb.XGBRegressor(objective ='reg:squarederror', colsample_bytree = 0.8, learning_rate = 0.84,\n",
    "                max_depth = 6, alpha = 14, n_estimators = 20)\n",
    "xg_reg.fit(X_train,Y_train)\n",
    "\n",
    "x_pred_xgb = xg_reg.predict(X_train)\n",
    "y_pred_xgb = xg_reg.predict(X_test)\n",
    "print(\"Train score: \", r2_score(x_pred_xgb,Y_train))\n",
    "print(\"Test score: \", r2_score(Y_test, y_pred_xgb))\n",
    "devs_xgb = ((y_pred_xgb-Y_test)/Y_test)*100\n",
    "print(devs_xgb)\n",
    "print(\"Mean Deviation:\",np.mean(np.abs(devs_xgb)))\n",
    "devs_xgb.pop(101)\n",
    "devs_xgb.pop(142)\n",
    "print(\"Mean Deviation:\",np.mean(np.abs(devs_xgb)))"
   ]
  },
  {
   "cell_type": "markdown",
   "metadata": {},
   "source": [
    "# Final model is RF"
   ]
  },
  {
   "cell_type": "markdown",
   "metadata": {},
   "source": [
    "###  Analysis"
   ]
  },
  {
   "cell_type": "code",
   "execution_count": 14,
   "metadata": {},
   "outputs": [],
   "source": [
    "data = pd.read_csv('30M_Train_data/Jagtial_CCE_Extract_One_Stage_30m.csv')"
   ]
  },
  {
   "cell_type": "code",
   "execution_count": 15,
   "metadata": {
    "scrolled": true
   },
   "outputs": [
    {
     "name": "stdout",
     "output_type": "stream",
     "text": [
      "<class 'pandas.core.frame.DataFrame'>\n",
      "RangeIndex: 161 entries, 0 to 160\n",
      "Data columns (total 29 columns):\n",
      "S_No_                        161 non-null int64\n",
      "USIN                         161 non-null int64\n",
      "State                        161 non-null object\n",
      "District                     161 non-null object\n",
      "Block_Mand                   161 non-null object\n",
      "Village                      161 non-null object\n",
      "CCE_Date                     161 non-null object\n",
      "Target_Cro                   161 non-null object\n",
      "CCE_Plot_S                   161 non-null object\n",
      "Wet_Weight                   161 non-null float64\n",
      "Dry_Weight                   161 non-null float64\n",
      "QC_Status                    161 non-null object\n",
      "Geo                          161 non-null object\n",
      "Lon                          161 non-null float64\n",
      "Lat                          161 non-null float64\n",
      "Status                       161 non-null object\n",
      "Yield_kg_h                   161 non-null float64\n",
      "CCCI_Jagtial_30              161 non-null float64\n",
      "CWSI_Jagtial_30              161 non-null float64\n",
      "EVI_jagtial_20200930_30m     161 non-null float64\n",
      "Jagtial_22_Aug_SM_10m_30     161 non-null float64\n",
      "jagtial_9.oct_sm_10m_30      161 non-null float64\n",
      "Jagtial_max_GS_30            161 non-null float64\n",
      "Jagtial_max_VS_30            161 non-null float64\n",
      "Jagtial_min_GS_30            161 non-null float64\n",
      "Jagtial_min_VS_30            161 non-null float64\n",
      "Jagtial_rf_GS_30             161 non-null float64\n",
      "Jagtial_rf_VS_30             161 non-null float64\n",
      "NDVI_jagtial_20200930_30m    161 non-null float64\n",
      "dtypes: float64(17), int64(2), object(10)\n",
      "memory usage: 36.6+ KB\n"
     ]
    }
   ],
   "source": [
    "data.info()"
   ]
  },
  {
   "cell_type": "code",
   "execution_count": 16,
   "metadata": {
    "scrolled": true
   },
   "outputs": [],
   "source": [
    "data.drop(['CCE_Plot_S','Geo','Lon','Lat','S_No_','USIN','State','District','Block_Mand','Village','CCE_Date','Target_Cro','QC_Status',\n",
    "          'Wet_Weight','Dry_Weight','Status'],axis=1, inplace=True)"
   ]
  },
  {
   "cell_type": "code",
   "execution_count": 17,
   "metadata": {},
   "outputs": [],
   "source": [
    "### Thresholding is applied for outlier treatment\n",
    "low_thresh = np.mean(data.Yield_kg_h)-2*np.std(data.Yield_kg_h)\n",
    "upp_thresh = np.mean(data.Yield_kg_h)+2*np.std(data.Yield_kg_h)"
   ]
  },
  {
   "cell_type": "code",
   "execution_count": 18,
   "metadata": {},
   "outputs": [
    {
     "data": {
      "text/plain": [
       "1215.576951259209"
      ]
     },
     "execution_count": 18,
     "metadata": {},
     "output_type": "execute_result"
    }
   ],
   "source": [
    "low_thresh"
   ]
  },
  {
   "cell_type": "code",
   "execution_count": 19,
   "metadata": {},
   "outputs": [
    {
     "data": {
      "text/plain": [
       "4083.488887250104"
      ]
     },
     "execution_count": 19,
     "metadata": {},
     "output_type": "execute_result"
    }
   ],
   "source": [
    "upp_thresh"
   ]
  },
  {
   "cell_type": "code",
   "execution_count": 20,
   "metadata": {},
   "outputs": [],
   "source": [
    "data = data[np.logical_and(data.Yield_kg_h > low_thresh, data.Yield_kg_h < upp_thresh)]"
   ]
  },
  {
   "cell_type": "code",
   "execution_count": 21,
   "metadata": {},
   "outputs": [
    {
     "name": "stdout",
     "output_type": "stream",
     "text": [
      "<class 'pandas.core.frame.DataFrame'>\n",
      "Int64Index: 153 entries, 0 to 160\n",
      "Data columns (total 13 columns):\n",
      "Yield_kg_h                   153 non-null float64\n",
      "CCCI_Jagtial_30              153 non-null float64\n",
      "CWSI_Jagtial_30              153 non-null float64\n",
      "EVI_jagtial_20200930_30m     153 non-null float64\n",
      "Jagtial_22_Aug_SM_10m_30     153 non-null float64\n",
      "jagtial_9.oct_sm_10m_30      153 non-null float64\n",
      "Jagtial_max_GS_30            153 non-null float64\n",
      "Jagtial_max_VS_30            153 non-null float64\n",
      "Jagtial_min_GS_30            153 non-null float64\n",
      "Jagtial_min_VS_30            153 non-null float64\n",
      "Jagtial_rf_GS_30             153 non-null float64\n",
      "Jagtial_rf_VS_30             153 non-null float64\n",
      "NDVI_jagtial_20200930_30m    153 non-null float64\n",
      "dtypes: float64(13)\n",
      "memory usage: 16.7 KB\n"
     ]
    }
   ],
   "source": [
    "data.info()"
   ]
  },
  {
   "cell_type": "code",
   "execution_count": 22,
   "metadata": {
    "scrolled": true
   },
   "outputs": [],
   "source": [
    "data['Avg_max'] = (data.Jagtial_max_GS_30+data.Jagtial_max_VS_30)/2\n",
    "data['Avg_min'] = (data.Jagtial_min_GS_30+data.Jagtial_min_VS_30)/2\n",
    "data['Sum_rf'] = (data.Jagtial_rf_GS_30+data.Jagtial_rf_VS_30)"
   ]
  },
  {
   "cell_type": "code",
   "execution_count": 23,
   "metadata": {},
   "outputs": [],
   "source": [
    "data.drop(['Jagtial_max_GS_30','Jagtial_max_VS_30','Jagtial_min_GS_30',\n",
    "           'Jagtial_min_VS_30','Jagtial_rf_GS_30','Jagtial_rf_VS_30'],axis=1, inplace=True)"
   ]
  },
  {
   "cell_type": "code",
   "execution_count": 24,
   "metadata": {},
   "outputs": [
    {
     "name": "stdout",
     "output_type": "stream",
     "text": [
      "<class 'pandas.core.frame.DataFrame'>\n",
      "Int64Index: 153 entries, 0 to 160\n",
      "Data columns (total 10 columns):\n",
      "Yield_kg_h                   153 non-null float64\n",
      "CCCI_Jagtial_30              153 non-null float64\n",
      "CWSI_Jagtial_30              153 non-null float64\n",
      "EVI_jagtial_20200930_30m     153 non-null float64\n",
      "Jagtial_22_Aug_SM_10m_30     153 non-null float64\n",
      "jagtial_9.oct_sm_10m_30      153 non-null float64\n",
      "NDVI_jagtial_20200930_30m    153 non-null float64\n",
      "Avg_max                      153 non-null float64\n",
      "Avg_min                      153 non-null float64\n",
      "Sum_rf                       153 non-null float64\n",
      "dtypes: float64(10)\n",
      "memory usage: 13.1 KB\n"
     ]
    }
   ],
   "source": [
    "data.info()"
   ]
  },
  {
   "cell_type": "code",
   "execution_count": 25,
   "metadata": {},
   "outputs": [],
   "source": [
    "X = data.drop(['Yield_kg_h'],axis=1)\n",
    "Y = data.Yield_kg_h"
   ]
  },
  {
   "cell_type": "code",
   "execution_count": 26,
   "metadata": {},
   "outputs": [
    {
     "name": "stdout",
     "output_type": "stream",
     "text": [
      "<class 'pandas.core.frame.DataFrame'>\n",
      "Int64Index: 153 entries, 0 to 160\n",
      "Data columns (total 9 columns):\n",
      "CCCI_Jagtial_30              153 non-null float64\n",
      "CWSI_Jagtial_30              153 non-null float64\n",
      "EVI_jagtial_20200930_30m     153 non-null float64\n",
      "Jagtial_22_Aug_SM_10m_30     153 non-null float64\n",
      "jagtial_9.oct_sm_10m_30      153 non-null float64\n",
      "NDVI_jagtial_20200930_30m    153 non-null float64\n",
      "Avg_max                      153 non-null float64\n",
      "Avg_min                      153 non-null float64\n",
      "Sum_rf                       153 non-null float64\n",
      "dtypes: float64(9)\n",
      "memory usage: 12.0 KB\n"
     ]
    }
   ],
   "source": [
    "X.info()"
   ]
  },
  {
   "cell_type": "code",
   "execution_count": 27,
   "metadata": {
    "scrolled": true
   },
   "outputs": [
    {
     "name": "stdout",
     "output_type": "stream",
     "text": [
      "Train score:  0.9999976785285508\n",
      "Test score:  0.8896478492987268\n",
      "43      7.392346\n",
      "119     3.723455\n",
      "150     3.581536\n",
      "93     -0.254551\n",
      "8      16.195760\n",
      "100     8.074858\n",
      "4     -15.694488\n",
      "16     19.366884\n",
      "51     -8.224747\n",
      "67     -7.490585\n",
      "120     4.539301\n",
      "73     -3.604860\n",
      "60     -6.208436\n",
      "136    -6.611297\n",
      "69     -0.221139\n",
      "116    24.578148\n",
      "Name: Yield_kg_h, dtype: float64\n",
      "Mean Deviation: 8.485149357272572\n"
     ]
    }
   ],
   "source": [
    "X_train, X_test, Y_train, Y_test = train_test_split(X, Y, random_state = 99, test_size=0.1)\n",
    "xg_reg = xgb.XGBRegressor(objective ='reg:squarederror', colsample_bytree = 0.8, learning_rate = 0.73,\n",
    "        max_depth = 9, alpha = 5, n_estimators = 20)\n",
    "xg_reg.fit(X_train,Y_train)\n",
    "\n",
    "x_pred_xgb = xg_reg.predict(X_train)\n",
    "y_pred_xgb = xg_reg.predict(X_test)\n",
    "print(\"Train score: \", r2_score(x_pred_xgb,Y_train))\n",
    "print(\"Test score: \", r2_score(Y_test, y_pred_xgb))\n",
    "devs_xgb = ((y_pred_xgb-Y_test)/Y_test)*100\n",
    "print(devs_xgb)\n",
    "print(\"Mean Deviation:\",np.mean(np.abs(devs_xgb)))"
   ]
  },
  {
   "cell_type": "code",
   "execution_count": 28,
   "metadata": {
    "scrolled": true
   },
   "outputs": [
    {
     "name": "stdout",
     "output_type": "stream",
     "text": [
      "Train score: 0.7890579383798708\n",
      "Test score: 0.811669830787711\n",
      "21     12.671999\n",
      "32     -2.439207\n",
      "51    -12.508033\n",
      "92     -2.902661\n",
      "24     32.019076\n",
      "82     -9.896708\n",
      "140     8.358643\n",
      "87      5.392937\n",
      "13     -7.415066\n",
      "148    -0.304127\n",
      "78    -10.826484\n",
      "35      1.521468\n",
      "52     -6.090851\n",
      "91    -13.598793\n",
      "47     -5.199744\n",
      "117     3.814904\n",
      "Name: Yield_kg_h, dtype: float64\n",
      "Mean Deviation: 8.435043945257526\n"
     ]
    }
   ],
   "source": [
    "X_train, X_test, Y_train, Y_test = train_test_split(X, Y, random_state = 81, test_size=0.1)\n",
    "rf = RandomForestRegressor(n_estimators=15, max_depth=11, min_samples_split=2, random_state=3)\n",
    "rf.fit(X_train, Y_train)\n",
    "x_pred = rf.predict(X_train)\n",
    "y_pred = rf.predict(X_test)\n",
    "print('Train score:', r2_score(x_pred, Y_train))\n",
    "print('Test score:', r2_score(Y_test, y_pred))\n",
    "devs = ((y_pred-Y_test)/Y_test)*100\n",
    "print(devs)\n",
    "print(\"Mean Deviation:\",np.mean(np.abs(devs)))"
   ]
  },
  {
   "cell_type": "markdown",
   "metadata": {},
   "source": [
    "### The score improved final model is RF"
   ]
  },
  {
   "cell_type": "code",
   "execution_count": 29,
   "metadata": {},
   "outputs": [],
   "source": [
    "output = data_total.iloc[X_test.index].copy()\n",
    "\n",
    "output['Predictions'] = y_pred\n",
    "\n",
    "output.reset_index(drop=True, inplace=True)\n",
    "output.to_excel(\"Jagtial_30M_Predictions.xlsx\")"
   ]
  },
  {
   "cell_type": "code",
   "execution_count": 30,
   "metadata": {},
   "outputs": [
    {
     "data": {
      "text/plain": [
       "2656.4352941176458"
      ]
     },
     "execution_count": 30,
     "metadata": {},
     "output_type": "execute_result"
    }
   ],
   "source": [
    "np.mean(data.Yield_kg_h)"
   ]
  },
  {
   "cell_type": "code",
   "execution_count": 31,
   "metadata": {},
   "outputs": [
    {
     "data": {
      "text/plain": [
       "2799.998232142857"
      ]
     },
     "execution_count": 31,
     "metadata": {},
     "output_type": "execute_result"
    }
   ],
   "source": [
    "np.mean(y_pred)"
   ]
  },
  {
   "cell_type": "markdown",
   "metadata": {},
   "source": [
    "### Final Predictions"
   ]
  },
  {
   "cell_type": "code",
   "execution_count": 32,
   "metadata": {},
   "outputs": [],
   "source": [
    "data1 = pd.read_csv('30M_INPUT_FOR_YIELD_MAP/Jagtial_CWSI_30.csv')"
   ]
  },
  {
   "cell_type": "code",
   "execution_count": 33,
   "metadata": {},
   "outputs": [
    {
     "name": "stdout",
     "output_type": "stream",
     "text": [
      "<class 'pandas.core.frame.DataFrame'>\n",
      "RangeIndex: 1638788 entries, 0 to 1638787\n",
      "Data columns (total 16 columns):\n",
      "pointid                      1638788 non-null int64\n",
      "grid_code                    1638788 non-null float64\n",
      "POINT_X                      1638788 non-null float64\n",
      "POINT_Y                      1638788 non-null float64\n",
      "CCCI_Jagtial_30              1638788 non-null float64\n",
      "CWSI_Jagtial_30              1638788 non-null float64\n",
      "EVI_jagtial_20200930_30m     1638787 non-null float64\n",
      "Jagtial_22_Aug_SM_10m_30     1637939 non-null float64\n",
      "jagtial_9.oct_sm_10m_30      1638037 non-null float64\n",
      "Jagtial_max_GS_30            1638788 non-null float64\n",
      "Jagtial_max_VS_30            1638788 non-null float64\n",
      "Jagtial_min_GS_30            1638788 non-null float64\n",
      "Jagtial_min_VS_30            1638788 non-null float64\n",
      "Jagtial_rf_GS_30             1638788 non-null float64\n",
      "Jagtial_rf_VS_30             1638788 non-null float64\n",
      "NDVI_jagtial_20200930_30m    1638788 non-null float64\n",
      "dtypes: float64(15), int64(1)\n",
      "memory usage: 200.0 MB\n"
     ]
    }
   ],
   "source": [
    "data1.info()"
   ]
  },
  {
   "cell_type": "code",
   "execution_count": 34,
   "metadata": {},
   "outputs": [],
   "source": [
    "data1.dropna(inplace=True)\n",
    "data1.reset_index(drop=True, inplace=True)"
   ]
  },
  {
   "cell_type": "code",
   "execution_count": 35,
   "metadata": {},
   "outputs": [
    {
     "name": "stdout",
     "output_type": "stream",
     "text": [
      "<class 'pandas.core.frame.DataFrame'>\n",
      "RangeIndex: 1637884 entries, 0 to 1637883\n",
      "Data columns (total 16 columns):\n",
      "pointid                      1637884 non-null int64\n",
      "grid_code                    1637884 non-null float64\n",
      "POINT_X                      1637884 non-null float64\n",
      "POINT_Y                      1637884 non-null float64\n",
      "CCCI_Jagtial_30              1637884 non-null float64\n",
      "CWSI_Jagtial_30              1637884 non-null float64\n",
      "EVI_jagtial_20200930_30m     1637884 non-null float64\n",
      "Jagtial_22_Aug_SM_10m_30     1637884 non-null float64\n",
      "jagtial_9.oct_sm_10m_30      1637884 non-null float64\n",
      "Jagtial_max_GS_30            1637884 non-null float64\n",
      "Jagtial_max_VS_30            1637884 non-null float64\n",
      "Jagtial_min_GS_30            1637884 non-null float64\n",
      "Jagtial_min_VS_30            1637884 non-null float64\n",
      "Jagtial_rf_GS_30             1637884 non-null float64\n",
      "Jagtial_rf_VS_30             1637884 non-null float64\n",
      "NDVI_jagtial_20200930_30m    1637884 non-null float64\n",
      "dtypes: float64(15), int64(1)\n",
      "memory usage: 199.9 MB\n"
     ]
    }
   ],
   "source": [
    "data1.info()"
   ]
  },
  {
   "cell_type": "code",
   "execution_count": 36,
   "metadata": {},
   "outputs": [],
   "source": [
    "data1['Avg_max'] = (data1.Jagtial_max_GS_30 + data1.Jagtial_max_VS_30)/2\n",
    "data1['Avg_min'] = (data1.Jagtial_min_GS_30 + data1.Jagtial_min_VS_30)/2\n",
    "data1['Sum_rf'] = (data1.Jagtial_rf_GS_30 + data1.Jagtial_rf_VS_30)"
   ]
  },
  {
   "cell_type": "code",
   "execution_count": 37,
   "metadata": {},
   "outputs": [
    {
     "data": {
      "text/plain": [
       "Index(['CCCI_Jagtial_30', 'CWSI_Jagtial_30', 'EVI_jagtial_20200930_30m',\n",
       "       'Jagtial_22_Aug_SM_10m_30', 'jagtial_9.oct_sm_10m_30',\n",
       "       'NDVI_jagtial_20200930_30m', 'Avg_max', 'Avg_min', 'Sum_rf'],\n",
       "      dtype='object')"
      ]
     },
     "execution_count": 37,
     "metadata": {},
     "output_type": "execute_result"
    }
   ],
   "source": [
    "X.columns"
   ]
  },
  {
   "cell_type": "code",
   "execution_count": 38,
   "metadata": {},
   "outputs": [],
   "source": [
    "data2 = data1[['CCCI_Jagtial_30', 'CWSI_Jagtial_30', 'EVI_jagtial_20200930_30m',\n",
    "       'Jagtial_22_Aug_SM_10m_30', 'jagtial_9.oct_sm_10m_30',\n",
    "       'NDVI_jagtial_20200930_30m', 'Avg_max', 'Avg_min', 'Sum_rf']]"
   ]
  },
  {
   "cell_type": "code",
   "execution_count": 39,
   "metadata": {},
   "outputs": [],
   "source": [
    "data_pred = rf.predict(data2)"
   ]
  },
  {
   "cell_type": "code",
   "execution_count": 40,
   "metadata": {},
   "outputs": [],
   "source": [
    "data1['Prediction'] = data_pred\n",
    "data1['InQuintal'] = data_pred/100"
   ]
  },
  {
   "cell_type": "code",
   "execution_count": 41,
   "metadata": {},
   "outputs": [],
   "source": [
    "data1.reset_index(drop=True, inplace=True)"
   ]
  },
  {
   "cell_type": "code",
   "execution_count": 42,
   "metadata": {},
   "outputs": [],
   "source": [
    "data1.to_csv('30M_INPUT_FOR_YIELD_MAP/Jagtial_30m_Prediction.csv')"
   ]
  },
  {
   "cell_type": "code",
   "execution_count": 43,
   "metadata": {},
   "outputs": [
    {
     "data": {
      "text/html": [
       "<div>\n",
       "<style scoped>\n",
       "    .dataframe tbody tr th:only-of-type {\n",
       "        vertical-align: middle;\n",
       "    }\n",
       "\n",
       "    .dataframe tbody tr th {\n",
       "        vertical-align: top;\n",
       "    }\n",
       "\n",
       "    .dataframe thead th {\n",
       "        text-align: right;\n",
       "    }\n",
       "</style>\n",
       "<table border=\"1\" class=\"dataframe\">\n",
       "  <thead>\n",
       "    <tr style=\"text-align: right;\">\n",
       "      <th></th>\n",
       "      <th>pointid</th>\n",
       "      <th>grid_code</th>\n",
       "      <th>POINT_X</th>\n",
       "      <th>POINT_Y</th>\n",
       "      <th>CCCI_Jagtial_30</th>\n",
       "      <th>CWSI_Jagtial_30</th>\n",
       "      <th>EVI_jagtial_20200930_30m</th>\n",
       "      <th>Jagtial_22_Aug_SM_10m_30</th>\n",
       "      <th>jagtial_9.oct_sm_10m_30</th>\n",
       "      <th>Jagtial_max_GS_30</th>\n",
       "      <th>...</th>\n",
       "      <th>Jagtial_min_GS_30</th>\n",
       "      <th>Jagtial_min_VS_30</th>\n",
       "      <th>Jagtial_rf_GS_30</th>\n",
       "      <th>Jagtial_rf_VS_30</th>\n",
       "      <th>NDVI_jagtial_20200930_30m</th>\n",
       "      <th>Avg_max</th>\n",
       "      <th>Avg_min</th>\n",
       "      <th>Sum_rf</th>\n",
       "      <th>Prediction</th>\n",
       "      <th>InQuintal</th>\n",
       "    </tr>\n",
       "  </thead>\n",
       "  <tbody>\n",
       "    <tr>\n",
       "      <th>0</th>\n",
       "      <td>1</td>\n",
       "      <td>0.263084</td>\n",
       "      <td>78.959816</td>\n",
       "      <td>19.075016</td>\n",
       "      <td>0.284546</td>\n",
       "      <td>0.263084</td>\n",
       "      <td>0.271533</td>\n",
       "      <td>0.303733</td>\n",
       "      <td>0.316872</td>\n",
       "      <td>31.860594</td>\n",
       "      <td>...</td>\n",
       "      <td>22.906347</td>\n",
       "      <td>23.536509</td>\n",
       "      <td>301.503784</td>\n",
       "      <td>534.476807</td>\n",
       "      <td>0.323091</td>\n",
       "      <td>31.652989</td>\n",
       "      <td>23.221428</td>\n",
       "      <td>835.980591</td>\n",
       "      <td>2529.48</td>\n",
       "      <td>25.2948</td>\n",
       "    </tr>\n",
       "    <tr>\n",
       "      <th>1</th>\n",
       "      <td>2</td>\n",
       "      <td>0.262463</td>\n",
       "      <td>78.960085</td>\n",
       "      <td>19.075016</td>\n",
       "      <td>0.373607</td>\n",
       "      <td>0.262463</td>\n",
       "      <td>0.646098</td>\n",
       "      <td>0.239364</td>\n",
       "      <td>0.308194</td>\n",
       "      <td>31.860508</td>\n",
       "      <td>...</td>\n",
       "      <td>22.904419</td>\n",
       "      <td>23.530777</td>\n",
       "      <td>306.624542</td>\n",
       "      <td>536.973145</td>\n",
       "      <td>0.581395</td>\n",
       "      <td>31.652777</td>\n",
       "      <td>23.217598</td>\n",
       "      <td>843.597687</td>\n",
       "      <td>2248.80</td>\n",
       "      <td>22.4880</td>\n",
       "    </tr>\n",
       "    <tr>\n",
       "      <th>2</th>\n",
       "      <td>3</td>\n",
       "      <td>0.262214</td>\n",
       "      <td>78.960355</td>\n",
       "      <td>19.075016</td>\n",
       "      <td>0.396488</td>\n",
       "      <td>0.262214</td>\n",
       "      <td>0.668245</td>\n",
       "      <td>0.333765</td>\n",
       "      <td>0.315574</td>\n",
       "      <td>31.860508</td>\n",
       "      <td>...</td>\n",
       "      <td>22.904419</td>\n",
       "      <td>23.530777</td>\n",
       "      <td>306.624542</td>\n",
       "      <td>536.973145</td>\n",
       "      <td>0.595832</td>\n",
       "      <td>31.652777</td>\n",
       "      <td>23.217598</td>\n",
       "      <td>843.597687</td>\n",
       "      <td>2223.96</td>\n",
       "      <td>22.2396</td>\n",
       "    </tr>\n",
       "    <tr>\n",
       "      <th>3</th>\n",
       "      <td>4</td>\n",
       "      <td>0.261841</td>\n",
       "      <td>78.960624</td>\n",
       "      <td>19.075016</td>\n",
       "      <td>0.385088</td>\n",
       "      <td>0.261841</td>\n",
       "      <td>0.681099</td>\n",
       "      <td>0.303187</td>\n",
       "      <td>0.317562</td>\n",
       "      <td>31.860508</td>\n",
       "      <td>...</td>\n",
       "      <td>22.904419</td>\n",
       "      <td>23.530777</td>\n",
       "      <td>306.624542</td>\n",
       "      <td>536.973145</td>\n",
       "      <td>0.597064</td>\n",
       "      <td>31.652777</td>\n",
       "      <td>23.217598</td>\n",
       "      <td>843.597687</td>\n",
       "      <td>2365.44</td>\n",
       "      <td>23.6544</td>\n",
       "    </tr>\n",
       "    <tr>\n",
       "      <th>4</th>\n",
       "      <td>5</td>\n",
       "      <td>0.261469</td>\n",
       "      <td>78.960894</td>\n",
       "      <td>19.075016</td>\n",
       "      <td>0.384025</td>\n",
       "      <td>0.261469</td>\n",
       "      <td>0.725673</td>\n",
       "      <td>0.305566</td>\n",
       "      <td>0.326711</td>\n",
       "      <td>31.860508</td>\n",
       "      <td>...</td>\n",
       "      <td>22.904419</td>\n",
       "      <td>23.530777</td>\n",
       "      <td>306.624542</td>\n",
       "      <td>536.973145</td>\n",
       "      <td>0.613689</td>\n",
       "      <td>31.652777</td>\n",
       "      <td>23.217598</td>\n",
       "      <td>843.597687</td>\n",
       "      <td>2392.92</td>\n",
       "      <td>23.9292</td>\n",
       "    </tr>\n",
       "  </tbody>\n",
       "</table>\n",
       "<p>5 rows × 21 columns</p>\n",
       "</div>"
      ],
      "text/plain": [
       "   pointid  grid_code    POINT_X    POINT_Y  CCCI_Jagtial_30  CWSI_Jagtial_30  \\\n",
       "0        1   0.263084  78.959816  19.075016         0.284546         0.263084   \n",
       "1        2   0.262463  78.960085  19.075016         0.373607         0.262463   \n",
       "2        3   0.262214  78.960355  19.075016         0.396488         0.262214   \n",
       "3        4   0.261841  78.960624  19.075016         0.385088         0.261841   \n",
       "4        5   0.261469  78.960894  19.075016         0.384025         0.261469   \n",
       "\n",
       "   EVI_jagtial_20200930_30m  Jagtial_22_Aug_SM_10m_30  \\\n",
       "0                  0.271533                  0.303733   \n",
       "1                  0.646098                  0.239364   \n",
       "2                  0.668245                  0.333765   \n",
       "3                  0.681099                  0.303187   \n",
       "4                  0.725673                  0.305566   \n",
       "\n",
       "   jagtial_9.oct_sm_10m_30  Jagtial_max_GS_30  ...  Jagtial_min_GS_30  \\\n",
       "0                 0.316872          31.860594  ...          22.906347   \n",
       "1                 0.308194          31.860508  ...          22.904419   \n",
       "2                 0.315574          31.860508  ...          22.904419   \n",
       "3                 0.317562          31.860508  ...          22.904419   \n",
       "4                 0.326711          31.860508  ...          22.904419   \n",
       "\n",
       "   Jagtial_min_VS_30  Jagtial_rf_GS_30  Jagtial_rf_VS_30  \\\n",
       "0          23.536509        301.503784        534.476807   \n",
       "1          23.530777        306.624542        536.973145   \n",
       "2          23.530777        306.624542        536.973145   \n",
       "3          23.530777        306.624542        536.973145   \n",
       "4          23.530777        306.624542        536.973145   \n",
       "\n",
       "   NDVI_jagtial_20200930_30m    Avg_max    Avg_min      Sum_rf  Prediction  \\\n",
       "0                   0.323091  31.652989  23.221428  835.980591     2529.48   \n",
       "1                   0.581395  31.652777  23.217598  843.597687     2248.80   \n",
       "2                   0.595832  31.652777  23.217598  843.597687     2223.96   \n",
       "3                   0.597064  31.652777  23.217598  843.597687     2365.44   \n",
       "4                   0.613689  31.652777  23.217598  843.597687     2392.92   \n",
       "\n",
       "   InQuintal  \n",
       "0    25.2948  \n",
       "1    22.4880  \n",
       "2    22.2396  \n",
       "3    23.6544  \n",
       "4    23.9292  \n",
       "\n",
       "[5 rows x 21 columns]"
      ]
     },
     "execution_count": 43,
     "metadata": {},
     "output_type": "execute_result"
    }
   ],
   "source": [
    "data1.head()"
   ]
  },
  {
   "cell_type": "code",
   "execution_count": 44,
   "metadata": {},
   "outputs": [
    {
     "data": {
      "text/plain": [
       "2544.0534328045906"
      ]
     },
     "execution_count": 44,
     "metadata": {},
     "output_type": "execute_result"
    }
   ],
   "source": [
    "np.mean(data1.Prediction)"
   ]
  },
  {
   "cell_type": "code",
   "execution_count": 45,
   "metadata": {},
   "outputs": [
    {
     "data": {
      "text/plain": [
       "2649.5329192546565"
      ]
     },
     "execution_count": 45,
     "metadata": {},
     "output_type": "execute_result"
    }
   ],
   "source": [
    "np.mean(data_total.Yield_kg_h)"
   ]
  }
 ],
 "metadata": {
  "kernelspec": {
   "display_name": "Python 3",
   "language": "python",
   "name": "python3"
  },
  "language_info": {
   "codemirror_mode": {
    "name": "ipython",
    "version": 3
   },
   "file_extension": ".py",
   "mimetype": "text/x-python",
   "name": "python",
   "nbconvert_exporter": "python",
   "pygments_lexer": "ipython3",
   "version": "3.7.3"
  }
 },
 "nbformat": 4,
 "nbformat_minor": 2
}
